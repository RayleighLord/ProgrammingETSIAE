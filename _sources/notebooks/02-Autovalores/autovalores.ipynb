{
 "cells": [
  {
   "cell_type": "markdown",
   "id": "2de8e63c",
   "metadata": {},
   "source": [
    "# Métodos para el Cálculo de Autovalores"
   ]
  },
  {
   "cell_type": "markdown",
   "id": "5585a0e5",
   "metadata": {},
   "source": [
    "## Contenido\n",
    "* [Semana 1](#Single): Métodos iterativos para el cálculo de autovectores dominantes.\n",
    "<ul>\n",
    "<li>Método de la potencia.</li>\n",
    "<li>Método de la potencia inversa (shift & invert).</li>\n",
    "</ul>\n",
    "* [Semana 2](#Full): Métodos para el cálculo del espectro completo de autovalores."
   ]
  },
  {
   "cell_type": "markdown",
   "id": "b79e4681",
   "metadata": {},
   "source": [
    "<ul>\n",
    "<li> Empezamos importando los módulos necesarios y definiendo la matriz de la que queremos calcular los autovalores.\n",
    "</ul>"
   ]
  },
  {
   "cell_type": "code",
   "execution_count": 56,
   "id": "f116228e",
   "metadata": {},
   "outputs": [],
   "source": [
    "import numpy as np\n",
    "import scipy.linalg as sp\n",
    "from tabulate import tabulate\n",
    "\n",
    "v = np.random.rand(4)\n",
    "A = np.reshape(v,(1,4)) # Matriz de 1 fila y 4 columnas (Vector fila)\n",
    "B = np.reshape(v,(4,1)) # Matriz de 4 filas y 1 columna (Vector columna)\n",
    "Matriz = np.matmul(B,A) # Matriz simétrica, el elemento (i,j) es v(i)*V(j) \n",
    "\n",
    "#print(tabulate(Matriz))"
   ]
  },
  {
   "cell_type": "markdown",
   "id": "1f26f056",
   "metadata": {},
   "source": [
    "<ul>\n",
    "<li> A continuación definimos algunas funciones útiles que vamos a usar\n",
    "</ul>"
   ]
  },
  {
   "cell_type": "code",
   "execution_count": 57,
   "id": "c94668f7",
   "metadata": {},
   "outputs": [],
   "source": [
    "def norm2(v):\n",
    "    return np.sqrt(sum(v*v))"
   ]
  },
  {
   "cell_type": "markdown",
   "id": "cd80ed65",
   "metadata": {},
   "source": [
    "<a id='Single'></a>\n",
    "## Métodos iterativos para el cálculo de un autovector.\n",
    "\n",
    "Vamos a hacer una serie de suposiciones necesarias para garantizar que estos métodos funcionan adecuadamente.\n",
    "En primer lugar consideramos una matriz $A \\in \\mathbb M_{n \\times n}(\\mathbb R)$ no singular, cuadrada, formada por coeficientes reales y <a href=\"https://es.wikipedia.org/wiki/Matriz_diagonalizable\">diagonalizable</a>.\n",
    "\n",
    "En segundo lugar vamos a considerar que los autovalores cumplen:\n",
    "\n",
    "$$|\\lambda_1| \\gt |\\lambda_2| \\ge |\\lambda_3| \\ge \\dots \\ge |\\lambda_n|$$\n",
    "\n",
    "Es decir, que tenemos un autovalor $\\lambda_1$ que llamaremos dominante, que es mayor en valor absoluto que el resto. Además vamos a considerar que la multiplicidad geométrica (no solo la <a href=\"https://aga.frba.utn.edu.ar/multiplicidades-algebraica-y-geometrica-de-un-autovalor/\">algebraica</a>) es uno. Eso implica que sólo tiene asociado un autovector, que llamaremos autovector dominante. \n",
    "\n",
    "Bajo estas condiciones, para calcular el $\\textbf{autopar}$ (autovalor y autovector asociado) podemos utilizar el método de la potencia.\n",
    "    \n",
    "\n",
    "### Método de la potencia.\n",
    "\n",
    "Sea $\\mathbf{x} \\in \\mathbb R^n$, entonces, por ser $A$ diagonalizable, existe una base del espacio vectorial $\\mathbb R^n$ formada por autovectores de $A$, $B_v = \\{\\vec{v}_1, \\vec{v}_2, \\vec{v}_3, \\dots, \\vec{v}_n \\}$ con $A \\vec{v}_i = \\lambda_i \\vec{v}_i$, de modo que:\n",
    "    \n",
    "$$\\mathbf{x} = c_1\\vec{v}_1 + c_2\\vec{v}_2 + \\dots + c_n\\vec{v}_n$$\n",
    "    \n",
    "Entonces:\n",
    "    \n",
    "$$A\\mathbf{x} = c_1A\\vec{v}_1 + c_2A\\vec{v}_2 + \\dots + c_nA\\vec{v}_n=c_1\\lambda_1\\vec{v}_1 + c_2\\lambda_2\\vec{v}_2 + \\dots + c_n\\lambda_n\\vec{v}_n$$\n",
    "    \n",
    "Considerando que $|\\lambda_1| \\gt |\\lambda_2|  \\ge \\dots \\ge |\\lambda_n|$ podemos reescribir:\n",
    "    \n",
    "$$A\\mathbf{x} = \\lambda_1 \\left( c_1\\vec{v}_1 + c_2\\dfrac{\\lambda_2}{\\lambda_1}\\vec{v}_2 + \\dots + c_n\\dfrac{\\lambda_n}{\\lambda_1}\\vec{v}_n \\right)$$\n",
    "    \n",
    "Multiplicando de forma iterativa por la matriz $A$ obtenemos el siguiente proceso iterativo:\n",
    "\n",
    "* $\\mathbf{x}^1 = A\\mathbf{x}$; \n",
    "* $\\mathbf{x}^2 = A\\mathbf{x}^1 = A^2\\mathbf{x}$;\n",
    "* ...\n",
    "* $\\mathbf{x}^p=A^p\\mathbf{x} = \\left(\\lambda_{1}\\right)^{p} \\left( c_1\\vec{v}_1 + c_2\\left(\\frac{\\lambda_2}{\\lambda_1}\\right)^p\\vec{v}_2 + \\dots + c_n\\left(\\frac{\\lambda_n}{\\lambda_1}\\right)^p\\vec{v}_n \\right)$\n",
    "  \n",
    "    \n",
    "Como $|\\lambda_1|\\gt |\\lambda_i| \\quad   \\forall i=2,\\cdots,n$  los cocientes de autovalores se hacen cada vez más pequeños a medida que aumenta el exponente $p$. Por ello se espera que en el límite:\n",
    "    \n",
    "$$A^p\\mathbf{x} \\sim c_1 \\left(\\lambda_{1}\\right)^{p} \\vec{v}_1$$\n",
    "    \n",
    "Es decir, que, a medida que multiplicamos sucesivamente por la matriz $A$, la operación nos lleve en la dirección del autovalor dominante. \n",
    "Este resultado teórico tiene algunos inconvenientes a la hora de implementarlo numéricamente. Uno de los más típicos se debe a la inestabilidad numérica causada por el aumento exponencial de $\\left(\\lambda_{1}\\right)^{p}$ y el decaimiento tambien exponencial de $\\left(\\dfrac{\\lambda_i}{\\lambda_1}\\right)^p$. Este inconveniente se puede solucionar facilmente normalizando el resultado de $\\mathbf{x}^j=A\\mathbf{x}^{j-1}$ en cada iteración.\n",
    "    \n",
    "El método de la potencia converge al autovector dominante normalizado $v_1$, para calcular el autovalor correspondiente podemos emplear el cociente de Rayleigh:\n",
    "    \n",
    "$$ \\lambda_1 = \\dfrac{\\vec{v}_1^T A\\vec{v}_1}{\\vec{v}_1^T\\vec{v}_1}=\\dfrac{\\vec{v}_1^T \\lambda_1\\vec{v}_1}{\\vec{v}_1^T\\vec{v}_1}$$\n",
    "    \n",
    "Veamos como implementarlo:"
   ]
  },
  {
   "cell_type": "code",
   "execution_count": 58,
   "id": "01711ea6",
   "metadata": {},
   "outputs": [],
   "source": [
    "def potencia(A):\n",
    "    if A.shape[0]!=A.shape[1]: return None  #Comprobamos que la matriz sea cuadrada\n",
    "    n = A.shape[0] \n",
    "    x = np.random.rand(n)     # Tomamos un vector aleatorio para empezar a iterar\n",
    "    x = x/norm2(x)            # Normalizamos dicho vector\n",
    "    \n",
    "    convergencia = False\n",
    "    while not convergencia:   # Proceso iterativo hasta la convergencia\n",
    "        x1 = np.matmul(A,x)\n",
    "\n",
    "        x1 = x1/norm2(x1)\n",
    "        if norm2(x1-x)<0.0000001:    # Convergencia alcanzada en el autovector\n",
    "            convergencia = True\n",
    "            eigenvalue = np.dot(x1,np.matmul(A,x1))\n",
    "        x = x1.copy()\n",
    "    \n",
    "    return eigenvalue,x1      # Devolvemos como resultado el autovalor y autovector dominantes"
   ]
  },
  {
   "cell_type": "markdown",
   "id": "17e6e936",
   "metadata": {},
   "source": [
    "Pongamos un ejemplo sencillo para ver como funciona.\n",
    "\n",
    "\\begin{align}\n",
    "A = \n",
    "\\begin{pmatrix}\n",
    "1 & 1 & 2\\\\\n",
    "1 & -1 & 1\\\\\n",
    "2 & 1 & -1\n",
    "\\end{pmatrix}\n",
    "\\end{align}\n",
    "\n",
    "Hemos escogido una matriz real, simétrica y por tanto con todos los autovalores reales. \n",
    "Los autovalores de esta matriz son: $\\lambda_1 = 2.74; \\lambda_2 = -2.35; \\lambda_3 = -1.4$.\n",
    "Lo podemos comprobar mediante la funcion <i> eigvals()</i> del módulo <i>scipy.linalg</i> que nos devuelve los autovalores de una matriz\n"
   ]
  },
  {
   "cell_type": "code",
   "execution_count": 59,
   "id": "2c234721",
   "metadata": {},
   "outputs": [
    {
     "name": "stdout",
     "output_type": "stream",
     "text": [
      "[ 2.74482608+0.j -1.39593186+0.j -2.34889422+0.j]\n"
     ]
    }
   ],
   "source": [
    "A = np.array([[1.,1.,2.],[1.,-1.,1.],[2.,1.,-1.]])\n",
    "print(sp.eigvals(A))"
   ]
  },
  {
   "cell_type": "markdown",
   "id": "b4ce7401",
   "metadata": {},
   "source": [
    "Apliquemos el método de la potencia para calcular el par dominante."
   ]
  },
  {
   "cell_type": "code",
   "execution_count": 60,
   "id": "9cead13e",
   "metadata": {},
   "outputs": [
    {
     "name": "stdout",
     "output_type": "stream",
     "text": [
      "Autovalor dominante: 2.7448260776819144, autovector: [0.78579649 0.34661858 0.51222986]\n"
     ]
    }
   ],
   "source": [
    "eigval,eigvec = potencia(A)\n",
    "print(f'Autovalor dominante: {eigval}, autovector: {eigvec}')"
   ]
  },
  {
   "cell_type": "markdown",
   "id": "b0f582d3",
   "metadata": {},
   "source": [
    "#### Criterio de Convergencia.\n",
    "\n",
    "El criterio de parada escogido en la implementación inicial ha sido:\n",
    "$$||\\mathbf{x}^j-\\mathbf{x}^{j-1}|| \\lt \\varepsilon$$\n",
    "\n",
    "Es decir que el módulo de la diferencia entre dos aproximaciones consecutivas del autovector sea menor que un valor pequeño $\\varepsilon$.\n",
    "\n",
    "Este criterio da problemas si el autovalor dominante es negativo. En cada iteración el vector cambiará de sentido (manteniendo la dirección) lo que hará que no se cumpla el criterio de convergencia. \n",
    "Para comprobarlo basta que cambies el signo del elemento $A_{1,1}$. \n",
    "\n",
    "\\begin{align}\n",
    "A = \n",
    "\\begin{pmatrix}\n",
    "-1 & 1 & 2\\\\\n",
    "1 & -1 & 1\\\\\n",
    "2 & 1 & -1\n",
    "\\end{pmatrix}\n",
    "\\end{align}\n",
    "\n",
    "Ahora el autovalor dominante es $\\lambda_1 = -3$ y el proceso iterativo devuelve:\n",
    "\n",
    "<ul>\n",
    "...    \n",
    "<li>Iteración:  23669\n",
    "\n",
    "x1   =  (-7.07106781e-01,  3.70074342e-17,  7.07106781e-01)</li>\n",
    "<li>Iteración:  23670\n",
    "\n",
    "x1   =  ( 7.07106781e-01,  3.70074342e-17, -7.07106781e-01)</li>\n",
    "<li>Iteración:  23671\n",
    "\n",
    "x1   =  (-7.07106781e-01,  3.70074342e-17,  7.07106781e-01)</li>\n",
    "<li>Iteración:  23672\n",
    "\n",
    "x1   =  ( 7.07106781e-01,  3.70074342e-17, -7.07106781e-01)</li>\n",
    "...\n",
    "</ul>\n",
    "El vector obtenido es el mismo, simplemente cambia el signo, pero el criterio de convergencia elegido no se cumple.\n",
    "\n",
    "Se puede corregir usando como criterio que el coseno del ángulo que forman las aproximaciones sucesivas sea 1 o -1. \n",
    "\n",
    "$$|1-|\\cos\\left(\\text{ang}  \\{  \\mathbf{x}^j,\\mathbf{x}^{j-1} \\}\\right)||\\lt \\varepsilon$$\n",
    "\n",
    "Pero, por lo general, para evitar ese problema se suele utilizar el comportamiento de las aproximaciones del autovalor dominante como condición de parada. \n",
    "\n",
    "$$|\\lambda_1^j-\\lambda_1^{j-1}| \\lt \\varepsilon$$"
   ]
  },
  {
   "cell_type": "code",
   "execution_count": 61,
   "id": "53941728",
   "metadata": {},
   "outputs": [],
   "source": [
    "def potencia(A):\n",
    "    if A.shape[0]!=A.shape[1]: return None     # Comprobamos que la matriz sea cuadrada\n",
    "    n = A.shape[0] \n",
    "    x = np.random.rand(n)                      # Tomamos un vector aleatorio para empezar a iterar\n",
    "    x = x/norm2(x)                             # Normalizamos dicho vector\n",
    "    eigvalue = np.dot(x,np.matmul(A,x))        # Aproximación inicial del autovalor \n",
    "    convergencia = False\n",
    "    \n",
    "    while not convergencia:\n",
    "        x1 = np.matmul(A,x)                    # Nueva aproximación a partir del producto matriz-vector\n",
    "        x1 = x1/norm2(x1)\n",
    "        eigvalue1 = np.dot(x1,np.matmul(A,x1))\n",
    "        if abs(eigvalue1-eigvalue)<0.0001:     # Criterio de parada basado en la convergencia del autovalor  \n",
    "            convergencia = True\n",
    "    \n",
    "        x = x1.copy()\n",
    "        eigvalue = eigvalue1\n",
    "    \n",
    "    return eigvalue1,x1                        # Devolvemos como resultado el autovalor y autovector dominantes"
   ]
  },
  {
   "cell_type": "code",
   "execution_count": 62,
   "id": "d80122e4",
   "metadata": {},
   "outputs": [
    {
     "name": "stdout",
     "output_type": "stream",
     "text": [
      "Autovalor dominante: -2.9999706078170822, autovector: [ 0.70832342  0.00198055 -0.70588527]\n"
     ]
    }
   ],
   "source": [
    "# Problemas de convergencia\n",
    "A = np.array([[-1.,1.,2.],[1.,-1.,1.],[2.,1.,-1.]])\n",
    "eigval,eigvec = potencia(A)\n",
    "print(f'Autovalor dominante: {eigval}, autovector: {eigvec}')"
   ]
  },
  {
   "cell_type": "markdown",
   "id": "a7e1f552",
   "metadata": {},
   "source": [
    "### Método de la potencia inversa. (shift & invert)\n",
    "\n",
    "Una pequeña variación del método de la potencia nos va a servir para calcular el autovalor más proximo a cero en valor absoluto y su autovector asociado. Para ello basta recordar de Algebra Lineal que si $ \\lambda $ es un autovalor de la matriz $ A $ entonces $ \\dfrac{1}{\\lambda} $ es autovalor de la inversa $ A^{-1} $. Veamoslo:\n",
    "\n",
    "Sea $ A \\in \\mathbb M_{n \\times n}(\\mathbb R) $ matriz cuadrada, no singular de números reales y sean: $ \\left( \\lambda, \\vec{v} \\right) $ un par autovalor-autovector de dicha matriz. Entonces:\n",
    "\n",
    "$$\n",
    "A\\vec{v} = \\lambda \\vec{v} \\rightarrow A^{-1}A\\vec{v} = \\lambda A^{-1}\\vec{v} \\rightarrow \\dfrac{1}{\\lambda}\\vec{v} =  A^{-1}\\vec{v}\n",
    "$$\n",
    "\n",
    "y por tanto $ \\dfrac{1}{\\lambda} $ es autovalor de la matriz inversa $ A^{-1} $ asociado al mismo autovector $ \\vec{v} $.\n",
    "\n",
    "Como además, si $ |\\lambda_1| \\gt |\\lambda_2| \\ge |\\lambda_3| \\ge \\dots \\gt |\\lambda_n| $ se cumple que $ |\\dfrac{1}{\\lambda_1}| \\lt |\\dfrac{1}{\\lambda_2}| \\le |\\dfrac{1}{\\lambda_3}| \\le \\dots \\lt |\\dfrac{1}{\\lambda_n}| $ Basta repetir el proceso iterativo del método de la potencia con $ A^{-1} $ en lugar de $ A $ para hallar el autovector dominante de $ A^{-1} $ que será el asociado al autovector dominante $ \\dfrac{1}{\\lambda_n} $.\n",
    "\n",
    "Habremos encontrado el autovector de  $ A $ asociado al autovalor $ \\lambda_n $, el más proximo a 0.\n",
    "\n",
    "A la hora de implementar este método tendremos en cuenta que el cálculo de la inversa es costoso y por tanto en lugar de iterar $ \\mathbf{x}^j=A^{-1}\\mathbf{x}^{j-1} $ haremos $ A\\mathbf{x}^j=\\mathbf{x}^{j-1} $ lo que supone resolver un sistema lineal en cada paso. \n",
    "\n",
    "No solo eso, como la matriz $ A $ del sistema lineal permanece constante en todas las iteraciones vamos a utilizar lo aprendido en el tema anterior y separaremos la resolución en 3 etapas. La factorización LU se realiza una única vez fuera del bucle de las iteraciones mientras que en cada paso solo tenemos que resolver los dos sistemas triangulares. "
   ]
  },
  {
   "cell_type": "code",
   "execution_count": 63,
   "id": "3622c9ee",
   "metadata": {},
   "outputs": [],
   "source": [
    "def potencia_inversa(A):\n",
    "    if A.shape[0]!=A.shape[1]: return None         # Comprobamos que la matriz sea cuadrada\n",
    "    n = A.shape[0] \n",
    "    x = np.random.rand(n)                          # Tomamos un vector aleatorio para empezar a iterar\n",
    "    x = x/norm2(x)                                 # Normalizamos dicho vector\n",
    "    eigvalue = np.dot(x,np.matmul(A,x))            # Aproximación inicial del autovalor usando A\n",
    "    convergencia = False\n",
    "    \n",
    "    # FACTORIZACION LU de A\n",
    "    P,L,U = sp.lu(A)\n",
    "    \n",
    "    while not convergencia:\n",
    "        #Resuelvo los dos sistemas lineales triangulares\n",
    "        y = sp.solve_triangular(L, np.matmul(P,x), lower=True)\n",
    "        x1 = sp.solve_triangular(U, y, lower=False)\n",
    "        \n",
    "        x1 = x1/norm2(x1)\n",
    "        eigvalue1 = np.dot(x1,np.matmul(A,x1))     # Aproximación del autovalor asociado al autovector menos dominante usando A\n",
    "        if abs(eigvalue1-eigvalue)<0.0001:         # Criterio de parada basado en la convergencia del autovalor\n",
    "            convergencia = True\n",
    "    \n",
    "        x = x1.copy()\n",
    "        eigvalue = eigvalue1\n",
    "     \n",
    "    return eigvalue1,x1                            # Devolvemos como resultado el autovalor más próximo a 0 y su autovector "
   ]
  },
  {
   "cell_type": "markdown",
   "id": "e9a22810",
   "metadata": {},
   "source": [
    "Vamos a probarlo con la matriz $A$ cuyos autovalores eran: $\\lambda_1 = 2.74; \\lambda_2 = -2.35; \\lambda_3 = -1.4$."
   ]
  },
  {
   "cell_type": "code",
   "execution_count": 64,
   "id": "c73e3f5f",
   "metadata": {},
   "outputs": [
    {
     "name": "stdout",
     "output_type": "stream",
     "text": [
      "Autovalor más próximo a 0: -1.3959033372414353, autovector asociado: [-0.45807584  0.88178188  0.11237102]\n"
     ]
    }
   ],
   "source": [
    "A = np.array([[1.,1.,2.],[1.,-1.,1.],[2.,1.,-1.]])\n",
    "eigval,eigvec = potencia_inversa(A)\n",
    "print(f'Autovalor más próximo a 0: {eigval}, autovector asociado: {eigvec}')"
   ]
  },
  {
   "cell_type": "markdown",
   "id": "103a7459",
   "metadata": {},
   "source": [
    "#### Método de la potencia inversa con <i> shift</i>.\n",
    "\n",
    "Una vez que hemos usado la potencia sobre la matriz inversa para calcular el autovalor más proximo a cero podemos modificarlo para calcular el autovalor más próximo a un valor dado. \n",
    "Basta comprobar que si $\\mu$ es un autovalor de $A$ y $\\vec{v}$ su autovector asociado, entonces la matriz $A-\\alpha I$ tiene como autovalor $\\mu-\\alpha$ asociado al mismo autovector $\\vec{v}$. \n",
    "$$   \\left( A-\\alpha I\\right )\\vec{v}= A\\vec{v}-\\alpha \\vec{v} =\\mu \\vec{v} -\\alpha \\vec{v} = \\left( \\mu-\\alpha \\right)\\vec{v}$$\n",
    "    \n",
    "Por tanto si aplicamos el metodo de la potencia inversa a la matriz $ A-\\beta I$ hallaremos el autovector de la matriz $A$ cuyo autovalor está más proximo a $\\beta$.\n",
    "    \n",
    "Al igual que antes la manera eficiente de implementarlo es a través de la resolución de un sistema lineal en cada paso separando la descomposición LU (única) de la resolución de los sistemas triangulares. \n"
   ]
  },
  {
   "cell_type": "code",
   "execution_count": 65,
   "id": "9734a3d1",
   "metadata": {},
   "outputs": [],
   "source": [
    "def potencia_inversa_shift(A,beta):\n",
    "    if A.shape[0]!=A.shape[1]: return None         # Comprobamos que la matriz sea cuadrada\n",
    "    n = A.shape[0] \n",
    "    B = A-beta*np.eye(n)\n",
    "    x = np.random.rand(n)                          # Tomamos un vector aleatorio para empezar a iterar\n",
    "    x = x/norm2(x)                                 # Normalizamos dicho vector\n",
    "    eigvalue = np.dot(x,np.matmul(A,x))            # Aproximación inicial del autovalor usando A\n",
    "    convergencia = False\n",
    "    # FACTORIZACION LU de B = A-betaI\n",
    "    P,L,U = sp.lu(B)\n",
    "    \n",
    "    while not convergencia:\n",
    "        #Resuelvo los dos sistemas lineales triangulares\n",
    "        y = sp.solve_triangular(L, np.matmul(P,x), lower=True)\n",
    "        x1 = sp.solve_triangular(U, y, lower=False)\n",
    "        \n",
    "        x1 = x1/norm2(x1)\n",
    "        eigvalue1 = np.dot(x1,np.matmul(A,x1))     # Aproximación del autovalor asociado al autovector menos dominante usando A\n",
    "        if abs(eigvalue1-eigvalue)<0.0001:         # Criterio de parada basado en la convergencia del autovalor\n",
    "            convergencia = True\n",
    "    \n",
    "        x = x1.copy()\n",
    "        eigvalue = eigvalue1\n",
    "     \n",
    "    return eigvalue1,x1                            # Devolvemos como resultado el autovalor más próximo a 0 y su autovector "
   ]
  },
  {
   "cell_type": "code",
   "execution_count": 66,
   "id": "1b9c1b49",
   "metadata": {},
   "outputs": [
    {
     "name": "stdout",
     "output_type": "stream",
     "text": [
      "Autovalor más próximo a -2: -2.348858114107249, autovector asociado: [ 0.40803463  0.33185705 -0.85051669]\n"
     ]
    }
   ],
   "source": [
    "A = np.array([[1.,1.,2.],[1.,-1.,1.],[2.,1.,-1.]])\n",
    "eigval,eigvec = potencia_inversa_shift(A,-2)\n",
    "print(f'Autovalor más próximo a -2: {eigval}, autovector asociado: {eigvec}')"
   ]
  },
  {
   "cell_type": "markdown",
   "id": "68594899",
   "metadata": {},
   "source": [
    "<a id='Full'></a>\n",
    "> ## Métodos para el cálculo del espectro completo de autovalores."
   ]
  },
  {
   "cell_type": "markdown",
   "id": "395d511b",
   "metadata": {},
   "source": [
    "## Introducción.\n",
    "\n",
    "\n",
    "Vamos a centrarnos unicamente en el cálculo del espectro para **matrices reales, simétricas y con autovalores distintos**. Aunque parece una restricción muy fuerte existen numerosos problemas interesantes con esas características. Por ejemplo el PCA *Principal Component Analysis*, utilizado en problemas de reducción de dimensionalidad para compresión de información o reconocimiento de imágenes, precisa el calculo del espectro completo de la matriz de covarianza de un conjunto de datos siendo dicha matriz simétrica y definida positiva.\n",
    "\n",
    "La simetría de la matriz nos permite asegurar que los autovalores van a ser reales. Además, al pedir que esos autovalores sean distintos entre sí podemos garantizar que los autovectores asociados sean ortogonales entre si.\n",
    "\n",
    "Podemos demostrar esto último facilmente:\n",
    "Operando podemos comprobar que si $A$ es una matriz real:\n",
    "\n",
    "$$\\left<A\\vec{x},\\vec{y}\\right> = \\left<\\vec{x},A^T\\vec{y}\\right>$$\n",
    "\n",
    "Si suponemos además que $\\vec{x}$ e $\\vec{y}$ son autovectores asociados a los autovalores distintos $\\lambda$ y $\\beta$ respectivamente:\n",
    "\n",
    "$$\\lambda\\left<\\vec{x},\\vec{y}\\right> = \\left<\\lambda\\vec{x},\\vec{y}\\right>=\\left<A\\vec{x},\\vec{y}\\right>=\\left<\\vec{x},A^T\\vec{y}\\right>$$\n",
    "\n",
    "Como $A$ es simétrica $A=A^T$, entonces:\n",
    "\n",
    "$$\\left<\\vec{x},A^T\\vec{y}\\right>=\\left<\\vec{x},A\\vec{y}\\right>=\\left<\\vec{x},\\beta\\vec{y}\\right>=\\beta\\left<\\vec{x},\\vec{y}\\right>$$\n",
    "\n",
    "Hemos probado que:\n",
    "\n",
    "$$\\lambda\\left<\\vec{x},\\vec{y}\\right> =\\beta\\left<\\vec{x},\\vec{y}\\right> \\longrightarrow (\\lambda-\\beta)\\left<\\vec{x},\\vec{y}\\right> = 0 $$\n",
    "\n",
    "Como $\\lambda \\ne \\beta$ para que se cumpla es necesario que $\\left<\\vec{x},\\vec{y}\\right> = 0$. Es decir que $\\vec{x}$ e $\\vec{y}$ sean ortogonales entre si.\n",
    "\n",
    "En ese contexto intentaremos extender el método de la potencia para calcular el espectro completo de la matriz. Y veremos que podemos extender el método de la potencia de modo inteligente en este caso sencillo como hace el método de *Iteración Simultanea*. E iremos un paso más allá, aprovechando la idea que nos da la *Iteración Simultánea* para explicar uno de los métodos más utilizado para el cálculo del espectro completo, el algoritmo *QR*. Este algoritmo es equivalente a la *Iteración Simultánea* para matrices reales, simétricas con autovalores diferentes pero se puede utilizar también para el cálculo de autovalores y autovectores de matrices no simétricas o complejas. En cualquier caso estas variaciones van mucho más allá de los objetivos de este curso donde solo se pretende mostrar las versiones más sencillas de los algoritmos.\n",
    "\n",
    "Antes de entrar en los métodos de cálculo de autovalores nos vamos a detener en una herramienta que va a ser de gran utilidad: la factorización *QR* de una matriz.\n"
   ]
  },
  {
   "attachments": {
    "b06574cd-c591-444c-b0d4-56dadf84f539.png": {
     "image/png": "[encoded data removed]"
    }
   },
   "cell_type": "markdown",
   "id": "c9522a72-e062-4750-b6c8-adacba9ba424",
   "metadata": {},
   "source": [
    "### Descomposición QR.  <i> QR-decomposition</i>.\n",
    "\n",
    "La descomposición *QR* de una matriz $A \\in \\mathbb M_{n \\times n}(\\mathbb R)$  es una factorización de la forma:\n",
    "$$A = QR$$\n",
    "donde $Q$ es una matriz ortogonal y $R$ una matriz triangular superior. \n",
    "Recordad que una matriz ortogonal cumple: $Q^TQ = I$, es decir, su inversa es su traspuesta. Además, como consecuencia directa de que $Q^TQ = I$  las columnas de $Q$ son vectores ortogonales.\n",
    "\n",
    "Geometricamente, si las columnas de $A$ son una base de $\\mathbb R^n$ entonces las columnas de $Q$ son una base ortogonal de $\\mathbb R^n$ y la matriz de cambio de base sería $R$.\n",
    "Existen diferentes maneras de calcular la descomposición *QR* de una matriz $A$. Nos vamos a centrar en la que habéis visto en Álgebra que es el método de Gram-Schmidt. Este método tiene gran importancia académica pero no es el habitualmente usado por ser numericamente inestable. Esto quiere decir que los errores de precisión pueden provocar que los vectores que devuelve no sean ortogonales entre sí. Otros métodos con mejor comportamiento numérico son las transformaciones Householder o las rotaciones de Givens.\n",
    "\n",
    "El método de Gram-Schmidt parte de un conjunto de vectores linealmente independientes entre si. El primero es normalizado antes de añadirlo a la nueva base ortogonal. A partir de aquí a cada vector del conjunto original se le resta su proyección ortogonal sobre los ya incluidos en la nueva base antes de añadirlo. Se puede normalizar cada vector para obtener una base ortonormal.\n",
    "\n",
    "$$B = \\{ \\vec{v}_1, \\vec{v}_2, \\vec{v}_3,\\dots, \\vec{v}_n\\}$$\n",
    "$$B^{\\perp} = \\{ \\vec{e}_1, \\vec{e}_2, \\vec{e}_3,\\dots, \\vec{e}_n\\}$$\n",
    "con\n",
    "\n",
    "\\begin{align*}\n",
    "&\\vec{u}_1 = \\vec{v}_1 \\longrightarrow \\vec{e}_1 = \\dfrac{\\vec{u}_1}{||\\vec{u}_1||} \\\\\n",
    "&\\vec{u}_2 = \\vec{v}_2-\\mbox{proy}_{\\vec{e}_1}(\\vec{v}_2) \\longrightarrow \\vec{e}_2 = \\dfrac{\\vec{u}_2}{||\\vec{u}_2||} \\\\\n",
    "&\\vec{u}_3 = \\vec{v}_3-\\mbox{proy}_{\\vec{e}_1}(\\vec{v}_3)-\\mbox{proy}_{\\vec{e}_2}(\\vec{v}_3) \\longrightarrow \\vec{e}_3 = \\dfrac{\\vec{u}_3}{||\\vec{u}_3||}\\\\\n",
    "&\\dots \\\\\n",
    "&\\vec{u}_n = \\vec{v}_n-\\mbox{proy}_{\\vec{e}_1}(\\vec{v}_n)-\\dots-\\mbox{proy}_{\\vec{e}_{n-1}}(\\vec{v}_n) \\longrightarrow \\vec{e}_n = \\dfrac{\\vec{u}_n}{||\\vec{u}_n||}\n",
    "\\end{align*}\n",
    "\n",
    "Geometricamente:\n",
    "<div>\n",
    "<img src=\"attachment:b06574cd-c591-444c-b0d4-56dadf84f539.png\" width=\"300\"/>\n",
    "</div>\n",
    "\n",
    "Si partimos de las columnas de la matriz $A$:\n",
    "\n",
    "\\begin{align}\n",
    "A = \n",
    "\\begin{pmatrix}\n",
    "\\vdots & \\vdots& \\vdots & \\vdots\\\\\n",
    "a_1 & a_2 &\\dots & a_n\\\\\n",
    "\\vdots & \\vdots & \\vdots & \\vdots\n",
    "\\end{pmatrix}\n",
    "\\end{align}\n",
    "\n",
    "Entonces:\n",
    "\n",
    "\\begin{align*}\n",
    "&\\vec{u}_1 = \\vec{a}_1 \\longrightarrow \\vec{e}_1 = \\dfrac{\\vec{u}_1}{||\\vec{u}_1||} \\\\\n",
    "&\\vec{u}_2 = \\vec{a}_2-\\left<\\vec{a}_2,\\vec{e}_1\\right> \\vec{e}_1 \\longrightarrow \\vec{e}_2 = \\dfrac{\\vec{u}_2}{||\\vec{u}_2||} \\\\\n",
    "&\\vec{u}_3 = \\vec{a}_3-\\left<\\vec{a}_3,\\vec{e}_1\\right> \\vec{e}_1-\\left<\\vec{a}_3,\\vec{e}_2\\right> \\vec{e}_2 \\longrightarrow \\vec{e}_3 = \\dfrac{\\vec{u}_3}{||\\vec{u}_3||}\\\\\n",
    "&\\dots \\\\\n",
    "&\\vec{u}_n = \\vec{a}_n-\\left<\\vec{a}_n,\\vec{e}_1\\right> \\vec{e}_1-\\dots-\\left<\\vec{a}_n,\\vec{e}_{n-1}\\right> \\vec{e}_{n-1} \\longrightarrow \\vec{e}_n = \\dfrac{\\vec{u}_n}{||\\vec{u}_n||}\n",
    "\\end{align*}\n",
    "\n",
    "En esta nueva base, al ser ortonormal, se cumple:\n",
    "\n",
    "\\begin{align*}\n",
    "&\\vec{a}_1 = \\left<\\vec{a}_1,\\vec{e}_1\\right>\\vec{e}_1  \\\\\n",
    "&\\vec{a}_2 = \\left<\\vec{a}_2,\\vec{e}_1\\right>\\vec{e}_1 +  \\left<\\vec{a}_2,\\vec{e}_2\\right>\\vec{e}_2  \\\\\n",
    "&\\vec{a}_3 = \\left<\\vec{a}_3,\\vec{e}_1\\right>\\vec{e}_1 +  \\left<\\vec{a}_3,\\vec{e}_2\\right>\\vec{e}_2  +  \\left<\\vec{a}_3,\\vec{e}_3\\right>\\vec{e}_3\\\\\n",
    "&\\dots \\\\\n",
    "&\\vec{a}_n = \\left<\\vec{a}_n,\\vec{e}_1\\right>\\vec{e}_1 +  \\left<\\vec{a}_n,\\vec{e}_2\\right>\\vec{e}_2  + \\dots +  \\left<\\vec{a}_n,\\vec{e}_n\\right>\\vec{e}_n\\\\\n",
    "\\end{align*}\n",
    "\n",
    "Que matricialmente:\n",
    "\n",
    "\\begin{align}\n",
    "A = \n",
    "\\begin{pmatrix}\n",
    "  &  &   &  \\\\\n",
    "\\vdots & \\vdots& \\vdots & \\vdots\\\\\n",
    "a_1 & a_2 &\\dots & a_n\\\\\n",
    "\\vdots & \\vdots& \\vdots & \\vdots\\\\\n",
    "  &   &   &  \n",
    "\\end{pmatrix}\n",
    "= \\begin{pmatrix}\n",
    "  &  &   &  \\\\\n",
    "\\vdots & \\vdots& \\vdots & \\vdots\\\\\n",
    "e_1 & e_2 &\\dots & e_n\\\\\n",
    "\\vdots & \\vdots& \\vdots & \\vdots\\\\\n",
    "  &   &   &  \n",
    "\\end{pmatrix}\n",
    "\\begin{pmatrix}\n",
    "\\left<\\vec{a}_1,\\vec{e}_1\\right> & \\left<\\vec{a}_2,\\vec{e}_1\\right>& \\vdots & \\left<\\vec{a}_n,\\vec{e}_1\\right>\\\\\n",
    "0 & \\left<\\vec{a}_2,\\vec{e}_2\\right>& \\vdots & \\left<\\vec{a}_n,\\vec{e}_2\\right>\\\\\n",
    "\\vdots & \\vdots &\\ddots & \\vdots\\\\\n",
    "0 & 0 & \\dots & \\left<\\vec{a}_n,\\vec{e}_n\\right>\n",
    "\\end{pmatrix}\n",
    "= QR\n",
    "\\end{align}\n",
    "\n",
    "Se puede codificar facilmente en Python:"
   ]
  },
  {
   "cell_type": "code",
   "execution_count": 67,
   "id": "ab73c43c-b309-4909-a29a-d7b796f45e34",
   "metadata": {},
   "outputs": [],
   "source": [
    "def QR_decomposition(A):\n",
    "    Q = np.zeros_like(A)                    # Las columnas de Q guardaran la base ortonormal\n",
    "    R = np.zeros_like(A)\n",
    "    for j in range(A.shape[1]):\n",
    "        v = A[:,j]\n",
    "        for i in range(j):                  # Iteramos sobre los vectores ya incluidos en la base ortonormal\n",
    "            R[i,j] = np.dot(A[:,j],Q[:,i])\n",
    "            v = v - R[i,j]*Q[:,i]           # Restamos la proyección sobre el vector Q[:,i] ya calculado\n",
    "            \n",
    "        Q[:,j] = v/norm2(v)                 # Normalizamos antes de añadirlo\n",
    "        R[j,j] = np.dot(v,Q[:,j])\n",
    "    return Q,R"
   ]
  },
  {
   "cell_type": "markdown",
   "id": "0e988122-5008-48cb-a838-937ab8f01ab4",
   "metadata": {},
   "source": [
    "Veamos como se comporta:"
   ]
  },
  {
   "cell_type": "code",
   "execution_count": 68,
   "id": "d53e3e5e-a55d-4800-ac8f-c3cafb01b51e",
   "metadata": {},
   "outputs": [
    {
     "name": "stdout",
     "output_type": "stream",
     "text": [
      "A= \n",
      " --  --  --\n",
      " 1  -1  -2\n",
      " 4   0   3\n",
      "-1   1   1\n",
      "--  --  --\n",
      "Q= \n",
      " ---------  ---------  ------------\n",
      " 0.235702  -0.666667  -0.707107\n",
      " 0.942809   0.333333  -9.42055e-16\n",
      "-0.235702   0.666667  -0.707107\n",
      "---------  ---------  ------------\n",
      "R= \n",
      " -------  ---------  --------\n",
      "4.24264  -0.471405  2.12132\n",
      "0         1.33333   3\n",
      "0         0         0.707107\n",
      "-------  ---------  --------\n",
      "QR = \n",
      " --  --  --\n",
      " 1  -1  -2\n",
      " 4   0   3\n",
      "-1   1   1\n",
      "--  --  --\n"
     ]
    }
   ],
   "source": [
    "# Matriz A\n",
    "A = np.array([[1.,-1., -2.],[4., 0., 3.],[-1., 1., 1.]])\n",
    "print(f'A= \\n {tabulate(A)}')\n",
    "Q,R = QR_decomposition(A)\n",
    "print(f'Q= \\n {tabulate(Q)}')\n",
    "print(f'R= \\n {tabulate(R)}')\n",
    "print(f'QR = \\n {tabulate(Q@R)}')"
   ]
  },
  {
   "cell_type": "markdown",
   "id": "1112972b-d7e7-45a8-bd99-af72baccee9a",
   "metadata": {},
   "source": [
    "Tambiem podemos utilizar la función de *numpy* ** np.linalg.qr()** que llama a una subrutina de LAPACK que emplea transformaciones de Householder."
   ]
  },
  {
   "cell_type": "code",
   "execution_count": 69,
   "id": "408f41a4-753f-493c-9a2d-e24fdeb711c0",
   "metadata": {},
   "outputs": [
    {
     "name": "stdout",
     "output_type": "stream",
     "text": [
      "Q= \n",
      " ---------  ---------  -----------\n",
      "-0.235702   0.666667   0.707107\n",
      "-0.942809  -0.333333  -1.7568e-16\n",
      " 0.235702  -0.666667   0.707107\n",
      "---------  ---------  -----------\n",
      "R= \n",
      " --------  ---------  ---------\n",
      "-4.24264   0.471405  -2.12132\n",
      " 0        -1.33333   -3\n",
      " 0         0         -0.707107\n",
      "--------  ---------  ---------\n",
      "QR = \n",
      " --  ------------  --\n",
      " 1  -1            -2\n",
      " 4   1.66533e-16   3\n",
      "-1   1             1\n",
      "--  ------------  --\n"
     ]
    }
   ],
   "source": [
    "Q,R = np.linalg.qr(A)\n",
    "print(f'Q= \\n {tabulate(Q)}')\n",
    "print(f'R= \\n {tabulate(R)}')\n",
    "print(f'QR = \\n {tabulate(Q@R)}')"
   ]
  },
  {
   "cell_type": "markdown",
   "id": "11d1c217-c5ea-43aa-adfa-10c136d0e9fa",
   "metadata": {},
   "source": [
    "## Método de la Iteración Simultánea.  <i> Simultaneous Iteration</i>.\n",
    "\n",
    "Como hemos dicho antes nos vamos a centrar en el cálculo de autovalores y autovectores de matrices reales, simétricas y con autovalores distintos.\n",
    "El primer método que vamos a ver es el de la *Iteración Simultánea* que es una extensión inteligente de los métodos de la potencia a este caso particular.\n",
    "\n",
    "Los métodos de la potencia nos permiten calcular un único autovalor-autovector cada vez. Si aplicamos el método de la potencia a un conjunto de vectores linealmente independientes entre sí: $ V = \\{\\vec{v}_1, \\vec{v}_2, \\vec{v}_3, \\dots, \\vec{v}_n \\} $, despues de suficientes iteraciones, todos los vectores $ \\{ A^{k}\\vec{v}_i \\} $ habrán convergido al autovector dominante. ¿Hay algún modo de que cada vector converja en un autovector diferente?.\n",
    "\n",
    "Ahora es cuando entra en juego la descomposición *QR* y el hecho de que la matriz $ A $ sea simétrica. Recordemos que la simetría nos garantiza que todos los autovalores son reales y, la suposición extra de que los autovalores sean diferentes, nos asegura la ortogonalidad de los autovectores asociados. Si queremos encontrar la base de autovectores ortogonales, en cada paso del método de la potencia, debemos ortogonalizar (ortonormalizar) el conjunto de vectores $ \\{ A\\vec{v}_i \\} $. De esta manera forzamos que las aproximaciones sean ortonormales entre si.\n",
    "\n",
    "El algoritmo es sencillo y se puede escribir en pocas líneas:\n",
    "\n",
    "\\begin{align}\n",
    "&\\text{Escoger una base de }\\mathbb R^n \\text{  y almacenarla como matriz   }Q^0.   \\text{ Por ejemplo: } \\quad Q^0 = I.\\\\\n",
    "&\\text{Bucle hasta convergencia o número máximo de iteraciones} \\\\\n",
    "&\\quad\\quad Z = AQ^{k-1}\\\\\n",
    "&\\quad\\quad Q^{k}R^{k} = Z \\quad \\text{ Factorización QR con las columnas de }Q \\mathbf{\\text{ ortonormales}}\\\\\n",
    "&\\text{Las columnas de }Q \\text{ contienen los autovectores.}\n",
    "\\end{align}\n",
    "\n",
    "Para calcular los autovalores asociados a cada autovector bastará aplicar el cociente de Rayleigh a cada autovector. \n",
    "\n",
    "$$\\lambda_i = \\dfrac{Q_i^T A Q_i}{Q_i^TQ_i}$$\n",
    "\n",
    "La elección de $Q^0=I$ garantiza la ortonormalidad en el paso inicial."
   ]
  },
  {
   "cell_type": "code",
   "execution_count": 70,
   "id": "444f3bea",
   "metadata": {},
   "outputs": [],
   "source": [
    "def simultaneous_iteration(A):\n",
    "    Q = np.eye(A.shape[0])\n",
    "    eigenvalue = np.zeros(A.shape[1])\n",
    "    for i in range(10000):\n",
    "        Z = np.matmul(A,Q)\n",
    "        Q,R = np.linalg.qr(Z)\n",
    "    # Los autovectores están en las columnas de Q\n",
    "    for i in range(Q.shape[1]):\n",
    "        eigenvalue[i] = np.dot(Q[:,i],np.matmul(A,Q[:,i])) # No hace falta dividir por la norma ya que ||Q_i||=1\n",
    "        \n",
    "    return eigenvalue,Q"
   ]
  },
  {
   "cell_type": "markdown",
   "id": "a3e2a7a1",
   "metadata": {},
   "source": [
    "Veamoslo en un ejemplo sencillo $3x3$"
   ]
  },
  {
   "cell_type": "code",
   "execution_count": 71,
   "id": "1d33784a",
   "metadata": {},
   "outputs": [
    {
     "name": "stdout",
     "output_type": "stream",
     "text": [
      "---  ---  ---\n",
      "  4  -14  -12\n",
      "-14   10   13\n",
      "-12   13    1\n",
      "---  ---  ---\n"
     ]
    }
   ],
   "source": [
    "# Matriz simetrica \n",
    "S = np.array([[4.,-14., -12.],[-14., 10., 13.],[-12., 13., 1.]])\n",
    "print(tabulate(S))"
   ]
  },
  {
   "cell_type": "markdown",
   "id": "24c04d45",
   "metadata": {},
   "source": [
    "Cuyos autovalores y autovectores asociados, calculados con la función específica de *numpy*, son:"
   ]
  },
  {
   "cell_type": "code",
   "execution_count": 72,
   "id": "bf70b770",
   "metadata": {},
   "outputs": [
    {
     "name": "stdout",
     "output_type": "stream",
     "text": [
      "Autovalores:  [31.53568967 -9.64366467 -6.89202501]\n",
      "Autovector 0: [-0.55567116  0.6635882   0.50087949] \n",
      "Autovector 1: [ 0.59474589 -0.10370353  0.7971969 ] \n",
      "Autovector 2: [-0.58095343 -0.74087535  0.3370413 ] \n"
     ]
    }
   ],
   "source": [
    "values, vect = np.linalg.eig(S)\n",
    "print('Autovalores: ',values)\n",
    "\n",
    "columna = vect.T\n",
    "for i,vec in enumerate(columna):\n",
    "    print(f'Autovector {i}: {vec} ')"
   ]
  },
  {
   "cell_type": "markdown",
   "id": "de1fc88e",
   "metadata": {},
   "source": [
    "Mediante el método de Iteración Simultánea queda:"
   ]
  },
  {
   "cell_type": "code",
   "execution_count": 73,
   "id": "00a5928f",
   "metadata": {},
   "outputs": [
    {
     "name": "stdout",
     "output_type": "stream",
     "text": [
      "Autovalores:  [31.53568967 -9.64366467 -6.89202501]\n",
      "Autovector 0: [-0.55567116  0.6635882   0.50087949] \n",
      "Autovector 1: [-0.59474589  0.10370353 -0.7971969 ] \n",
      "Autovector 2: [-0.58095343 -0.74087535  0.3370413 ] \n"
     ]
    }
   ],
   "source": [
    "values,vect = simultaneous_iteration(S)\n",
    "print('Autovalores: ',values)\n",
    "columna = vect.T\n",
    "for i,vec in enumerate(columna):\n",
    "    print(f'Autovector {i}: {vec} ')\n"
   ]
  },
  {
   "cell_type": "markdown",
   "id": "bedf1b22",
   "metadata": {},
   "source": [
    "Recuerda que si $\\vec{v}$ es un autovector asociado a $\\lambda$ también lo es $-\\vec{v}$. $A(-\\vec{v}) = -A\\vec{v}= -\\lambda \\vec{v} = \\lambda (-\\vec{v})$"
   ]
  },
  {
   "attachments": {},
   "cell_type": "markdown",
   "id": "e3a566f5",
   "metadata": {},
   "source": [
    "## Algoritmo QR para el cálculo del espectro completo.\n",
    "\n",
    "\n",
    "Empezaremos con algunas generalidades del algoritmo y proposiones algebráicas teóricas que nos van a permitir situar el *algoritmo QR* dentro de un contexto más general. Es decir, aunque nosotros nos vamos a centrar en una matriz con ciertas restricciones, el algoritmo QR es aplicable para un rango de matrices mucho más extenso: no simetricas, con multiplicidad algebraica de los autovalores e incluso con valores complejos.\n",
    "\n",
    "<ul>\n",
    "    <li>\n",
    "        <i>Definición 1</i>:\n",
    "     </li>\n",
    "</ul>\n",
    "&nbsp;&nbsp;&nbsp;&nbsp; Dos matrices son semejantes si poseen los mismos autovalores.\n",
    "<ul>\n",
    "    <li>\n",
    "        <i>Proposición 1</i>:\n",
    "     </li>\n",
    "</ul>\n",
    "&nbsp;&nbsp;&nbsp;&nbsp; $A$ y $B \\in \\mathbb{R}^{n\\times n}$ son semejantes si $\\exists P \\in \\mathbb{R}^{n\\times n}$ no singular, tal que $B = P^{-1}AP$.\n",
    "Es decir un cambio de base preserva los autovalores. (¡Ojo, los autovectores no!)\n",
    "<ul>\n",
    "    <li>\n",
    "        <i>Definición 2</i>:\n",
    "     </li>\n",
    "</ul>\n",
    "&nbsp;&nbsp;&nbsp;&nbsp;Una matriz $H \\in \\mathbb{C}^{n\\times n}$ es unitaria si verifica que su inversa es igual a su traspuesta conjugada $H^{-1}= H^*$.\n",
    "<ul>\n",
    "    <li>\n",
    "        <i>Definición 3</i> (ya vista):\n",
    "     </li>\n",
    "</ul>\n",
    "&nbsp;&nbsp;&nbsp;&nbsp;Una matriz $Q \\in \\mathbb{R}^{n\\times n}$ es ortogonal si verifica que su inversa es igual a su traspuesta $Q^{-1}= Q^T$. Esta definición es la equivalente a ser unitaria en el campo complejo. \n",
    "<ul>\n",
    "    <li>\n",
    "        <i>Proposición 2</i>:\n",
    "     </li>\n",
    "</ul>\n",
    "&nbsp;&nbsp;&nbsp;&nbsp;Si $Q_1$ y $Q_2$ son matrices ortogonales $Q= Q_1Q_2$ es una matriz ortogonal y $Q^{-1} = Q_2^{-1} Q_1^{-1}$.\n",
    "<ul>\n",
    "    <li>\n",
    "        <i>Proposición 3</i>:\n",
    "     </li>\n",
    "</ul>\n",
    "\n",
    "Toda matriz cuadrada  $A \\in \\mathbb{C}^{n\\times n}$ se puede escribir como $A = HTH^{-1}$ donde $H$ es una matriz unitaria y $T$ es una matriz *quasi-triangular*.\n",
    "Si $A \\in \\mathbb{R}^{n\\times n}$ entonces la factorización se convierte en $A = QTQ^{-1}$ con $Q$ matriz ortogonal. En ambos casos a esta factorización se la conoce como **descomposición de Schur** o *Schur decomposition*.\n",
    "\n",
    "Como $A$ y $T$ son semejantes (Proposición 1) tienen los mismos autovalores. \n",
    "Si todos los autovalores de $A$ son reales la matriz $T$ será triangular y los autovalores estarán en la diagonal. Si $A$ posee algún autovalor complejo, en la diagonal apareceran bloques de tamaño $2x2$ que contendrán los autovalores complejos conjugados. \n",
    "\n",
    "Para ilustrar esto último, aunque no sea el caso que vamos a estudiar, veamos que ocurre si particularizamos al caso de una matriz $A \\in \\mathbb{R}^{4x4}$ con dos autovalores reales y un par de complejos conjugados, la forma de Schur será: $A = QTQ^{-1}$ con,\n",
    "\n",
    "\\begin{align}\n",
    "T = \n",
    "\\begin{pmatrix}\n",
    "\\lambda_1 & t_{12} & t_{13} & t_{14} \\\\\n",
    "0 & \\lambda_2 & t_{23} & t_{24} \\\\\n",
    "0 & 0 & a & b \\\\\n",
    "0 & 0 & c & a\n",
    "\\end{pmatrix}\n",
    "\\end{align}\n",
    "\n",
    "Y los autovalores son: $\\lambda_1, \\lambda_2, \\lambda_{3,4}= a\\pm \\sqrt{cb}$.\n",
    "\n",
    "Veamos un ejemplos:\n",
    "\n",
    "\\begin{align}\n",
    "A = \n",
    "\\begin{pmatrix}\n",
    "1 & 2 & 0 & 0 \\\\\n",
    "2 & 1 & 0 & 0 \\\\\n",
    "0 & 0 & 2 & -3 \\\\\n",
    "0 & 0 & 3 & 2\n",
    "\\end{pmatrix}\n",
    "\\end{align}\n",
    "\n",
    "cuyos autovalores son  $\\lambda_1 = 3, \\lambda_2= -1, \\lambda_3= 2+3i,\\lambda_4= 2-3i$.\n",
    "La descomposición de Schur de la matriz es:  \n",
    "\n",
    "\\begin{align}\n",
    "A = \n",
    "\\begin{pmatrix}\n",
    "1 & 2 & 0 & 0 \\\\\n",
    "2 & 1 & 0 & 0 \\\\\n",
    "0 & 0 & 2 & -3 \\\\\n",
    "0 & 0 & 3 & 2\n",
    "\\end{pmatrix}\n",
    "= \\begin{pmatrix}\n",
    "0.707 & 0.707 & 0 & 0 \\\\\n",
    "-0.707 & 0.707 & 0 & 0 \\\\\n",
    "0 & 0 & 1 & 0 \\\\\n",
    "0 & 0 & 0 & 1\n",
    "\\end{pmatrix}\n",
    "\\begin{pmatrix}\n",
    "3 & 0 & 0 & 0 \\\\\n",
    "0 & -1 & 0 & 0 \\\\\n",
    "0 & 0 & 2 & -3 \\\\\n",
    "0 & 0 & 3 & 2\n",
    "\\end{pmatrix}\n",
    "\\begin{pmatrix}\n",
    "0.707 & -0.707 & 0 & 0 \\\\\n",
    "0.707 & 0.707 & 0 & 0 \\\\\n",
    "0 & 0 & 1 & 0 \\\\\n",
    "0 & 0 & 0 & 1\n",
    "\\end{pmatrix}\n",
    "\\end{align}"
   ]
  },
  {
   "cell_type": "code",
   "execution_count": 74,
   "id": "a9f97b4a",
   "metadata": {},
   "outputs": [
    {
     "name": "stdout",
     "output_type": "stream",
     "text": [
      "-  -  -  --\n",
      "1  2  0   0\n",
      "2  1  0   0\n",
      "0  0  2  -3\n",
      "0  0  3   2\n",
      "-  -  -  --\n",
      "Autovalores: [ 3.+0.j -1.+0.j  2.+3.j  2.-3.j]\n",
      "T= \n",
      " -  --  -  --\n",
      "3   0  0   0\n",
      "0  -1  0   0\n",
      "0   0  2  -3\n",
      "0   0  3   2\n",
      "-  --  -  --\n",
      "Q= \n",
      " --------  ---------  -  -\n",
      "0.707107  -0.707107  0  0\n",
      "0.707107   0.707107  0  0\n",
      "0         -0         1  0\n",
      "0         -0         0  1\n",
      "--------  ---------  -  -\n",
      "Q^-1TQ = \n",
      " -  -  -  --\n",
      "1  2  0   0\n",
      "2  1  0   0\n",
      "0  0  2  -3\n",
      "0  0  3   2\n",
      "-  -  -  --\n"
     ]
    }
   ],
   "source": [
    "# Matriz real\n",
    "A = np.array([[1.,2., 0., 0.],[2., 1., 0., 0.],[0., 0., 2., -3.],[0., 0., 3., 2.]])\n",
    "#print(tabulate(A))\n",
    "print(tabulate(A))\n",
    "values,vect = np.linalg.eig(A)\n",
    "print(f'Autovalores: {values}')\n",
    "T,Q = sp.schur(A)\n",
    "print(f'T= \\n {tabulate(T)}')\n",
    "print(f'Q= \\n {tabulate(Q)}')\n",
    "print(f'Q^-1TQ = \\n {tabulate(Q@T@Q.T)}')\n"
   ]
  },
  {
   "cell_type": "markdown",
   "id": "c17f45a6",
   "metadata": {},
   "source": [
    "Si nos centramos en el caso que vamos a ver este curso con la matriz $A$ real y simétrica, la matriz $T$ en la descomposición de Schur toma forma diagonal.\n",
    "\n",
    "\\begin{align}\n",
    "A = \n",
    "\\begin{pmatrix}\n",
    "1 & 2 & 3 \\\\\n",
    "2 & 5 & 0  \\\\\n",
    "3 & 0 & 5\n",
    "\\end{pmatrix} = \\\\\n",
    "= \\begin{pmatrix}\n",
    "-0.8617 & 0.5074  & 0 \\\\\n",
    "0.2814 &   0.4779 &  -0.8320 \\\\\n",
    " 0.4221 &   0.7169 &   0.5547\n",
    "\\end{pmatrix}\n",
    "\\begin{pmatrix}\n",
    "-1.123 & 0 & 0 \\\\\n",
    "0 & 7.123 & 0  \\\\\n",
    "0 & 0 & 5 \n",
    "\\end{pmatrix}\n",
    "\\begin{pmatrix}\n",
    "-0.8617 & 0.2814  &  0.4221 \\\\\n",
    "0.5074 &   0.4779 &  0.7169 \\\\\n",
    " 0 &   -0.8320 &   0.5547\n",
    "\\end{pmatrix}= \\\\\n",
    "=QTQ^T\n",
    "\\end{align}\n"
   ]
  },
  {
   "cell_type": "code",
   "execution_count": 76,
   "id": "69f2f587",
   "metadata": {},
   "outputs": [
    {
     "name": "stdout",
     "output_type": "stream",
     "text": [
      "-  -  -\n",
      "1  2  3\n",
      "2  5  0\n",
      "3  0  5\n",
      "-  -  -\n",
      "Autovalores: [-1.12310563  7.12310563  5.        ]\n",
      "T= \n",
      " --------  -----------  -----------\n",
      "-1.12311  4.44089e-16  1.03256e-16\n",
      " 0        7.12311      9.6992e-16\n",
      " 0        0            5\n",
      "--------  -----------  -----------\n",
      "Q= \n",
      " ---------  --------  --------\n",
      "-0.861705  0.507409   0\n",
      " 0.28146   0.477988  -0.83205\n",
      " 0.42219   0.716982   0.5547\n",
      "---------  --------  --------\n",
      "Q^-1TQ = \n",
      " -  ------------  -----------\n",
      "1   2            3\n",
      "2   5            3.66873e-16\n",
      "3  -2.18176e-16  5\n",
      "-  ------------  -----------\n"
     ]
    }
   ],
   "source": [
    "A = np.array([[1, 2, 3], [2, 5, 0], [3, 0, 5]])\n",
    "print(tabulate(A))\n",
    "values,vect = np.linalg.eig(A)\n",
    "print(f'Autovalores: {values}')\n",
    "T,Q = sp.schur(A)\n",
    "print(f'T= \\n {tabulate(T)}')\n",
    "print(f'Q= \\n {tabulate(Q)}')\n",
    "print(f'Q^-1TQ = \\n {tabulate(Q@T@Q.T)}')\n",
    "\n"
   ]
  },
  {
   "cell_type": "markdown",
   "id": "20b0d82e",
   "metadata": {},
   "source": [
    "El *algoritmo QR* calcula el espectro completo de la matriz $A$ encontrando una forma semejante de $A$ a través de la transformación de Schur. Para ello utiliza un proceso iterativo. La idea básica es, en cada iteración, hacer una descomposición *QR* de la matriz original, construir una nueva matriz como el producto de los factores de la descomposición cambiados de orden y repetir hasta la convergencia:\n",
    "\n",
    "\\begin{align}\n",
    "&\\text{Factorizar la matriz  } A\\text{:} \\quad A = Q_0R_0.  \\\\\n",
    "&\\mbox{Bucle hasta convergencia o número máximo de iteraciones} \\\\\n",
    "&\\quad\\quad A_k = R_{k}Q_{k}\\\\\n",
    "&\\quad\\quad Q_{k+1}R_{k+1} = A_k \\quad \\mbox{ Factorización QR  }\\\\\n",
    "&\\mbox{La matriz }A_k \\mbox{ converge a una matriz quasi-triangular. La matriz $T$ en forma de Schur.}\n",
    "\\end{align}\n",
    "\n",
    "Veamos paso a paso que ocurre en este proceso iterativo:\n",
    "\n",
    "\\begin{align}\n",
    "& \\text{Factorización 1:} \\quad Q_0R_0 = A.  \\\\\n",
    "& A_0 = R_0Q_0 =  Q_0^{-1}Q_0R_0Q_0 = Q_0^{-1}AQ_0 \\\\\n",
    "& \\text{Factorización 2:} \\quad Q_1R_1 = A_0 \\\\\n",
    "& A_1 = R_1Q_1 =  Q_1^{-1}Q_1R_1Q_1 =  Q_1^{-1}A_0Q_1 =  Q_1^{-1}Q_0^{-1}AQ_0Q_1 \\\\\n",
    "& \\text{Factorización 3:} \\quad Q_2R_2 = A_1 \\\\\n",
    "& A_2 = R_2Q_2 =  Q_2^{-1}Q_2R_2Q_2 =  Q_2^{-1}A_1Q_2 =  Q_2^{-1}Q_1^{-1}Q_0^{-1}AQ_0Q_1Q_2 \\\\\n",
    "&\\dots \\\\\n",
    "& \\text{Factorización k+1:} \\quad Q_kR_k = A_{k-1} \\\\\n",
    "& A_k = R_kQ_k =  Q_k^{-1}Q_kR_kQ_k =  Q_k^{-1}A_{k-1}Q_k =  Q_k^{-1} \\dots Q_2^{-1}Q_1^{-1}Q_0^{-1}AQ_0Q_1Q_2 \\dots Q_k \n",
    "\\end{align}\n",
    "\n",
    "De la proposición 2 podemos concluir que $Q = Q_0Q_1Q_2 \\dots Q_k $ es una matriz ortogonal y que $Q^{-1} = Q_k^{-1} \\dots Q_2^{-1}Q_1^{-1}Q_0^{-1}$ es su inversa. Por tanto $$ A_k = Q^{-1}AQ = QAQ^{T} $$\n",
    "<br>\n",
    "Eso implica que $A_k$ y $A$ son semejantes y por tanto tienen los mismos autovalores.<br>\n",
    "\n",
    "Lo que no hemos demostrado (ni vamos a hacerlo en el caso general) es que este proceso iterativo termine con $A_k$ triangular, o *quasi-triangular* en el caso de autovalores complejos. Sirva como argumento intuitivo la proximidad con el algoritmo de iteración simultánea en el caso de empezar con una matriz real y simétrica. \n",
    "Si la matriz es real y simétrica ambos algoritmos son equivalentes. El algoritmo *QR* convergerá a una forma de Schur donde T es diagonal y contendrá a los autovalores. Recordad que en el método de *Iteración Simultánea* aplicabamos el coeficiente de Rayleigh a las columnas de la matriz $Q$ (autovectores) para obtener los autovalores.  \n",
    "\n",
    "Vamos a verlo con una versión no completa de ambos algoritmos. Nos detendremos al final del proceso iterativo y compararemos las matrices que ambos algoritmos generan."
   ]
  },
  {
   "cell_type": "code",
   "execution_count": 77,
   "id": "c63235ab",
   "metadata": {},
   "outputs": [
    {
     "name": "stdout",
     "output_type": "stream",
     "text": [
      "T= \n",
      " ------------  ------------  ------------\n",
      "6             -5.62478e-16  -1.46079e-15\n",
      "2.96439e-323  -3             4.26418e-16\n",
      "0              0            -1\n",
      "------------  ------------  ------------\n",
      "T= \n",
      " ------------  ------------  ------------\n",
      " 6            -9.21538e-16   1.76167e-17\n",
      "-7.97807e-16  -3             1.24569e-17\n",
      " 0             0            -1\n",
      "------------  ------------  ------------\n"
     ]
    }
   ],
   "source": [
    "def QR_algorithm_init(A):\n",
    "    Q = np.zeros_like(A)\n",
    "    R = np.zeros_like(A)\n",
    "    \n",
    "    A_copy = A.copy()\n",
    "    for i in range(10000):\n",
    "        Q,R = np.linalg.qr(A_copy)\n",
    "        A_copy = np.matmul(R,Q)\n",
    "    \n",
    "    return A_copy\n",
    "\n",
    "def simultaneous_iteration_init(A):\n",
    "    Q = np.eye(A.shape[0])\n",
    "    eigenvalue = np.zeros(A.shape[1])\n",
    "    for i in range(10000):\n",
    "        Z = np.matmul(A,Q)\n",
    "        Q,R = np.linalg.qr(Z)\n",
    "\n",
    "    return Q.T@A@Q\n",
    "\n",
    "A = np.array([[1, 2, 3], [2, 1, 3], [3, 3, 0]])\n",
    "\n",
    "T = QR_algorithm_init(A)\n",
    "print(f'T= \\n {tabulate(T)}')\n",
    "\n",
    "T = simultaneous_iteration_init(A)\n",
    "print(f'T= \\n {tabulate(T)}')\n",
    "\n"
   ]
  },
  {
   "cell_type": "markdown",
   "id": "b529fa93",
   "metadata": {},
   "source": [
    "Ya vimos que el método de iteración simultanea solo funciona cuando los autovectores son ortogonales entre sí. En cambio el método QR es válido para todo tipo de matrices. La clave es la convergencia de $A_k$ a una matriz $T$ *quasi-triangular*.\n",
    "A modo ilustrativo veremos como se produce esa convergencia. Partiremos de una matriz aleatoria de tamaño $100\\times100$ e iremos aplicando el algoritmo QR. Cada cierto número de iteraciones comprobaremos la forma de la matriz $A_k$"
   ]
  },
  {
   "cell_type": "code",
   "execution_count": 80,
   "id": "301db78a",
   "metadata": {},
   "outputs": [
    {
     "data": {
      "image/png": "[encoded data removed]",
      "text/plain": [
       "<Figure size 800x800 with 4 Axes>"
      ]
     },
     "metadata": {},
     "output_type": "display_data"
    }
   ],
   "source": [
    "import matplotlib.pyplot as plt\n",
    "A = np.random.rand(100,100)\n",
    "for i in range(10000):\n",
    "    Q,R = np.linalg.qr(A)\n",
    "    A = np.matmul(R,Q)\n",
    "    if i==10: \n",
    "        A10= A.copy()\n",
    "    elif i==100: \n",
    "        A100= A.copy()\n",
    "    elif i==1000: \n",
    "        A1000= A.copy()\n",
    "    elif i==9999: \n",
    "        A10000= A.copy()\n",
    "fig, axs = plt.subplots(2, 2, figsize=(8, 8))\n",
    "axs[0, 0].spy(abs(A10)>1e-4)\n",
    "axs[0, 1].spy(abs(A100)>1e-4)\n",
    "axs[1, 0].spy(abs(A1000)>1e-4)\n",
    "axs[1, 1].spy(abs(A10000)>1e-4)\n",
    "\n",
    "axs[0, 0].set_title('A_10 iteraciones')\n",
    "axs[0, 1].set_title('A_100 iteraciones')\n",
    "axs[1, 0].set_title('A_1000 iteraciones')\n",
    "axs[1, 1].set_title('A_10000 iteraciones')\n",
    "\n",
    "plt.show()\n"
   ]
  },
  {
   "cell_type": "markdown",
   "id": "49723dac",
   "metadata": {},
   "source": [
    "Ahora que nos creemos el algoritmo podemos completarlo para extraer los autovalores y autovectores.\n",
    "\n",
    "El algoritmo *QR* convierte la matriz $A$ en una triangular superior si todos sus autovalores son reales. Esta matriz triangular es semejante a $A$ y por tanto sus autovalores, situados en la diagonal principal, son los mismos que los de $A$.\n",
    "\n",
    "El cálculo de los autovectores asociados se puede hacer resolviendo el sistema lineal $(A-\\lambda I)\\vec{v} = \\bf{0}$ o aplicando el método de la potencia inversa a la matriz $A-\\lambda I$.\n"
   ]
  },
  {
   "cell_type": "code",
   "execution_count": 81,
   "id": "96206aae",
   "metadata": {},
   "outputs": [],
   "source": [
    "def QR_algorithm(A):\n",
    "    Q = np.zeros_like(A)\n",
    "    R = np.zeros_like(A)\n",
    "    eigvectors = np.zeros_like(A)\n",
    "    eigvalues = np.zeros(A.shape[0])\n",
    "    A_copy = A.copy()\n",
    "    for i in range(10000):\n",
    "        Q,R = QR_decomposition(A_copy)\n",
    "        #Q,R = np.linalg.qr(A_copy)\n",
    "        A_copy = np.matmul(R,Q)\n",
    "    # los autovalores están en la diagonal de A_copy \n",
    "    for i in range(A.shape[0]):\n",
    "        eigvalues[i], eigvectors[:,i] = potencia_inversa_shift(A, A_copy[i,i])\n",
    "    return eigvalues, eigvectors"
   ]
  },
  {
   "cell_type": "markdown",
   "id": "15ea0a1d",
   "metadata": {},
   "source": [
    "Veamos cómo funciona con un par de ejemplos:\n",
    "\n",
    "\n",
    "**Matriz simétrica**\n",
    "\n",
    "\\begin{align}\n",
    "A = \n",
    "\\begin{pmatrix}\n",
    "-1 & 0 & 1 & -1 \\\\\n",
    "0 & 1 & -1 & 0 \\\\\n",
    "1 & -2 & 0 & 1 \\\\\n",
    "-1 & 0 & 1 & 2 \n",
    "\\end{pmatrix}\n",
    "\\end{align}\n",
    "\n",
    "cuyos autovalores son $\\lambda_1 = 3. ; \\lambda_2 = -2.5141; \\lambda_3 =  2.0861$ y $\\lambda_4 = -0.5720$.\n",
    "\n",
    "Al aplicar el algoritmo QR, nos devuelve: "
   ]
  },
  {
   "cell_type": "code",
   "execution_count": 82,
   "id": "876c75a7",
   "metadata": {},
   "outputs": [
    {
     "name": "stdout",
     "output_type": "stream",
     "text": [
      "La matriz T de la forma de Schur de A es: \n",
      " ------------  -------------  ------------  ------------\n",
      "3              1.12854e-15    2.06049e-16   1.21419e-17\n",
      "4.94066e-323  -2.51414       -6.11399e-16   5.8193e-16\n",
      "1.97626e-323  -6.42285e-323   2.08613       4.64344e-16\n",
      "0              0              0            -0.571993\n",
      "------------  -------------  ------------  ------------\n",
      "Autovalores QR:  [ 3.         -2.51413693  2.0861302  -0.57199327]\n",
      "Autovector 1: [-1.09323154e-14  5.77350269e-01 -5.77350269e-01 -5.77350269e-01]\n",
      "Autovector 2: [ 0.6096698  -0.36717314 -0.64514835  0.27797521]\n",
      "Autovector 3: [-0.332506    0.49189489 -0.26713095  0.75902584]\n",
      "Autovector 4: [0.71954325 0.5384143  0.42319183 0.11522247]\n"
     ]
    }
   ],
   "source": [
    "S = np.array([[-1.,0., 1., -1.],[0., 1., -2., 0],[1., -2., 0., 1],[-1., 0., 1., 2.]])\n",
    "values,vect = QR_algorithm(S)\n",
    "print(f'La matriz T de la forma de Schur de A es: \\n {tabulate(QR_algorithm_init(S))}')\n",
    "print('Autovalores QR: ',values)\n",
    "for i in range(len(values)):\n",
    "    print(f'Autovector {i+1}: {vect[:,i]}')"
   ]
  },
  {
   "cell_type": "markdown",
   "id": "e135c31a",
   "metadata": {},
   "source": [
    "Se puede ver que la matriz T en la forma de Schur $A = QTQ^T$ es una matriz diagonal como era de esperar. \n",
    "\n",
    "Veamos un ejemplo no simétrico:\n",
    "\n",
    "**Matriz no simétrica**\n",
    "\n",
    "\\begin{align}\n",
    "A = \n",
    "\\begin{pmatrix}\n",
    "3 & 2 & -1 & 1 \\\\\n",
    "0 & -1 & 0 & 0 \\\\\n",
    "1 & 3 & 2 & 0 \\\\\n",
    "0 & 1 & 2 & 0 \n",
    "\\end{pmatrix}\n",
    "\\end{align}\n",
    "\n",
    "cuyos autovalores son $\\lambda_1 = 2.6180 ; \\lambda_2 = 2; \\lambda_3 =  -1$ y $\\lambda_4 = 0.3819$.\n",
    "\n",
    "En este caso la matriz T en la forma de Schur $A = QTQ^T$ no es una matriz diagonal pero sí triangular superior. "
   ]
  },
  {
   "cell_type": "code",
   "execution_count": 87,
   "id": "04de67d1",
   "metadata": {},
   "outputs": [
    {
     "name": "stdout",
     "output_type": "stream",
     "text": [
      "La matriz T de la forma de Schur de A es: \n",
      " -------------  -------------  -------------  ---------\n",
      " 2.61803        1.20414        1.67222        0.487199\n",
      "-3.95253e-323   2             -0.614403       2.86883\n",
      " 0             -9.88131e-324  -1             -0.999347\n",
      " 0              0              4.94066e-324   0.381966\n",
      "-------------  -------------  -------------  ---------\n",
      "Autovalores QR:  [ 2.61803399  2.00009997 -1.          0.38196601]\n",
      "Autovector 1: [4.40828244e-01 6.19456654e-32 7.13275081e-01 5.44893676e-01]\n",
      "Autovector 2: [ 1.41353708e-04 -0.00000000e+00  7.07106774e-01  7.07106774e-01]\n",
      "Autovector 3: [-0.18315512  0.70444276 -0.00939257 -0.68565762]\n",
      "Autovector 4: [-2.90446181e-01  9.58076452e-33  1.79505612e-01  9.39903586e-01]\n",
      "T= \n",
      " -------  -------  ---------  ---------\n",
      "2.61803  1.20414  -0.585089  -1.64053\n",
      "0        2         2.68472   -1.1832\n",
      "0        0         0.381966  -0.999347\n",
      "0        0         0         -1\n",
      "-------  -------  ---------  ---------\n",
      "Q= \n",
      " ---------  ---------  ---------  -\n",
      "-0.440828  -0.858884  -0.260748  0\n",
      " 0          0          0         1\n",
      "-0.713275   0.15885    0.682646  0\n",
      "-0.544894   0.486914  -0.682646  0\n",
      "---------  ---------  ---------  -\n",
      "Q^-1TQ = \n",
      " -----------  ----  --  -----------\n",
      "3             2    -1  1\n",
      "0            -1     0  0\n",
      "1             0.3   2  2.77556e-16\n",
      "7.77156e-16   1     2  2.77556e-17\n",
      "-----------  ----  --  -----------\n"
     ]
    }
   ],
   "source": [
    "S = np.array([[3.,2., -1., 1.],[0., -1., 0., 0],[1, 0.3, 2., 0],[0., 1., 2., 0.]])\n",
    "values,vect = QR_algorithm(S)\n",
    "print(f'La matriz T de la forma de Schur de A es: \\n {tabulate(QR_algorithm_init(S))}')\n",
    "print('Autovalores QR: ',values)\n",
    "for i in range(len(values)):\n",
    "    print(f'Autovector {i+1}: {vect[:,i]}')\n",
    "    \n",
    "T,Q = sp.schur(S)\n",
    "print(f'T= \\n {tabulate(T)}')\n",
    "print(f'Q= \\n {tabulate(Q)}')\n",
    "print(f'Q^-1TQ = \\n {tabulate(Q@T@Q.T)}')"
   ]
  }
 ],
 "metadata": {
  "kernelspec": {
   "display_name": "Python 3 (ipykernel)",
   "language": "python",
   "name": "python3"
  },
  "language_info": {
   "codemirror_mode": {
    "name": "ipython",
    "version": 3
   },
   "file_extension": ".py",
   "mimetype": "text/x-python",
   "name": "python",
   "nbconvert_exporter": "python",
   "pygments_lexer": "ipython3",
   "version": "3.9.12"
  }
 },
 "nbformat": 4,
 "nbformat_minor": 5
}
