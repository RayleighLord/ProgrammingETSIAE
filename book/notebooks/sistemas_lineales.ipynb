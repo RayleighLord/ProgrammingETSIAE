{
 "cells": [
  {
   "attachments": {},
   "cell_type": "markdown",
   "metadata": {},
   "source": [
    "# Sistemas Lineales"
   ]
  },
  {
   "attachments": {},
   "cell_type": "markdown",
   "metadata": {},
   "source": [
    "## Contenido\n",
    "* [Semana 1](#Gauss): Métodos directos: Gauss con y sin pivote. Objetivo programar Gauss sin pivote\n",
    "* [Semana 2](#LU): Métodos directos: LU con y sin pivote. Resolver a través del módulo de scipy y/o numpy.\n",
    "* [Semana 3](#Aplicacion): Aplicación de métodos directos: Determinante. Inversa. Interpolacion polinómica a través del método algebráico. Construir la matriz de Vandermonde y resolver el sistema lineal. Coste computacional Gaus vs LU. Perturbación del sistema lineal. Normas matriciales.\n",
    "* [Semana 4](#MI): Métodos iterativos: Gradiente conjugado, Gauss y Gauss Seidel."
   ]
  },
  {
   "attachments": {},
   "cell_type": "markdown",
   "metadata": {},
   "source": [
    "## Introducción a los sistemas lineales\n",
    "\n",
    "Definimos un sistema lineal como un sistema con $m$ ecuaciones lineales y $n$ incógnitas, este puede ser escrito de la siguiente manera:"
   ]
  },
  {
   "cell_type": "markdown",
   "metadata": {},
   "source": [
    "\\begin{align}\n",
    "{\\left\\{{\\begin{matrix}a_{11}x_{1}&+a_{12}x_{2}&+\\dots &+a_{1n}x_{n}&=b_{1}\\\\a_{21}x_{1}&+a_{22}x_{2}&+\\dots &+a_{2n}x_{n}&=b_{2}\\\\\\dots &\\dots &\\dots &\\dots &\\dots \\\\a_{m1}x_{1}&+a_{m2}x_{2}&+\\dots &+a_{mn}x_{n}&=b_{m}\\end{matrix}}\\right.}\n",
    "\\end{align}"
   ]
  },
  {
   "cell_type": "markdown",
   "metadata": {},
   "source": [
    "Donde ${ x_{1},\\dots ,x_{n}}$ son las incógnitas y los números ${ a_{ij}\\in \\mathbb {K} }$ son los coeficientes del sistema sobre el cuerpo ${ \\mathbb {K} \\ [=\\mathbb {R} ,\\mathbb {C} ,\\dots ]}$ ${ \\mathbb {K} \\ [=\\mathbb {R} ,\\mathbb {C} ,\\dots ]}$. El sistema se puede escribir con notación matricial:\n",
    "<br><br>\n",
    "\\begin{align}\n",
    "{ {\\begin{pmatrix}a_{11}&a_{12}&\\cdots &a_{1n}\\\\a_{21}&a_{22}&\\cdots &a_{2n}\\\\\\vdots &\\vdots &\\ddots &\\vdots \\\\a_{m1}&a_{m2}&\\cdots &a_{mn}\\end{pmatrix}}{\\begin{pmatrix}x_{1}\\\\x_{2}\\\\\\vdots \\\\x_{n}\\end{pmatrix}}={\\begin{pmatrix}b_{1}\\\\b_{2}\\\\\\vdots \\\\b_{m}\\end{pmatrix}}}\n",
    "\\end{align}\n",
    "<br><br>\n",
    "Si representamos con notación matricial compacta:\n",
    "\\begin{align}\n",
    "\\mathbf {Ax} =\\mathbf {b}\n",
    "\\end{align}\n",
    "<br><br>\n",
    "Donde $A$ es una matriz $m$ por $n$, $x$ es un vector columna de longitud $n$ y $b$ es otro vector columna de longitud $m$. La matriz A se llama matriz de coeficientes de este sistema lineal. A $b$ se le llama vector de términos independientes del sistema y a $x$ se le llama vector de incógnitas o solución.\n",
    "\n",
    "A continuación definimos la matriz, $A$ y el vector $b$ del sistema lineal e inicializamos el vector de incógnitas, $x$:"
   ]
  },
  {
   "cell_type": "code",
   "execution_count": 85,
   "metadata": {},
   "outputs": [
    {
     "name": "stdout",
     "output_type": "stream",
     "text": [
      "La matriz A del sistema es:\n",
      " [[ 1.  1. -1.  0.]\n",
      " [ 1.  1.  0. -1.]\n",
      " [-1.  0.  1.  1.]\n",
      " [ 0. -1.  1.  1.]]\n",
      "El vector b es:\n",
      " [1. 1. 1. 1.]\n",
      "El sistema tiene una dimension de n = 4\n"
     ]
    }
   ],
   "source": [
    "import pprint\n",
    "import numpy as np\n",
    "\n",
    "#Define el sistema compuesto por la matriz A y el vector b\n",
    "    # 1: Sistema para resolver sin Pivote - Solución: x= [-2.  2. -3.  3.]\n",
    "    # 2: Sistema para resolver con Pivote - Solución: x= [1. 1. 1. 1.]\n",
    "    # 3: Sistema para resolver con Pivote - Solución: x= [ 1.  2. -1.  1.]\n",
    "    # 4: Sistema para comparar tiempos computaciones\n",
    "sistema = 2\n",
    "\n",
    "if sistema == 1:\n",
    "    A = np.matrix([[2.0, 3.0, 4.0, 5.0], [6.0, 15.0, 19.0, 23.0],[8.0, 42.0, 60.0, 70.0],[12.0, 60.0, 1.0, 17.0]]) \n",
    "    b = np.array([5.0, 30.0, 98.0, 144.0])\n",
    "elif sistema == 2:    \n",
    "    A = np.matrix([[1.0, 1.0, -1.0, 0.0], [1.0, 1.0, 0.0, -1.0],[-1.0, 0.0, 1.0, 1.0],[0.0, -1.0, 1.0, 1.0]]) #Sistema para resolver con Pivote\n",
    "    b = np.array([1.0, 1.0, 1.0, 1.0]) \n",
    "elif sistema == 3:    \n",
    "    A = np.matrix([[10.0, -1.0, 2.0, 0.0], [-1.0, 11.0, -1.0, 3.0],[2.0, -1.0, 10.0, -1.0],[0.0, 3.0, -1.0, 8.0]]) #Sistema para resolver con Pivote\n",
    "    b = np.array([6.0, 25.0, -11.0, 15.0]) #Sistema para resolver con Pivote\n",
    "elif sistema == 4:\n",
    "    A = np.random.rand(1000, 1000)\n",
    "    b = np.random.rand(1000, 1)\n",
    "\n",
    "\n",
    "#Dimensión del sistema\n",
    "n = len(b)\n",
    "\n",
    "print('La matriz A del sistema es:\\n', A)\n",
    "print('El vector b es:\\n', b)\n",
    "print('El sistema tiene una dimension de n =', n)\n"
   ]
  },
  {
   "attachments": {},
   "cell_type": "markdown",
   "metadata": {},
   "source": [
    "\n",
    "## Métodos directos\n",
    "\n",
    "Aquellos que por medio de operaciones elementales entre filas, nos permiten transformar al sistema original en otro sistema equivalente, de forma tal de poder despejar facilmente los valores de las incógnitas.\n",
    "\n",
    "Son 'exactos', no tienen asociado error de truncamiento pero si de redondeo, y son usados cuando la mayoría de los coeficientes de $A$ son distintos de cero y las matrices no son demasiado grandes. Suelen ser algoritmos complicados de implementar. A continuación listamos algunos de los métodos directos:\n",
    "\n",
    "* [Gauss](#Gauss): Se divide en dos etapas, triangulación inferior y sustitución.\n",
    "* [Gauss-Jordan](#GaussJordan): Similar a Gauss, pero añade una triangulación superior, obteniendo una matriz diagonal dando directamente la solución del sistema.\n",
    "* [Factorización LU](#LU): Requiere una factorización de la matriz $A$ para posteriormente resolver el sistema en dos pasos.\n"
   ]
  },
  {
   "attachments": {},
   "cell_type": "markdown",
   "metadata": {},
   "source": [
    "> ### Gauss  <a id='Gauss'></a>\n",
    "\n",
    ">Parte de la matriz ampliada del sistema $Ab$ y el algoritmo se divide en dos partes:\n",
    "\n",
    ">* $\\textit{Triangulación}$: Converte la matriz $A$ en matriz triangular superior a través de la eliminación Gaussiana. Mediante operaciones elementales se busca un sistema equivalente con ceros por debajo de la diagonal principal.\n",
    ">* $\\textit{Sustitución}$: Resuelve los coefientes del vector solución. Se despeja el valor de cada incógnita empezando en la última ecuación utilizando los previamente calculados.\n",
    "\n",
    "> A continuación se introduce la implementación del método de Gauss:\n"
   ]
  },
  {
   "cell_type": "code",
   "execution_count": 86,
   "metadata": {
    "scrolled": true
   },
   "outputs": [
    {
     "name": "stdout",
     "output_type": "stream",
     "text": [
      "\n",
      " El vector solución del sistema, x= ERROR: El método de Gauss falla por encontrarnos un cero en la diagonal\n"
     ]
    }
   ],
   "source": [
    "def Gauss(A, b):\n",
    "    #Dimensión del sistema\n",
    "    n = len(b)\n",
    "    #Matriz ampliada\n",
    "    Ab = np.c_[A,b] #Usamos la funcion stack column \n",
    "                    #que permite añadir una columna extra.\n",
    "    x = np.zeros(n)\n",
    "                \n",
    "\n",
    "    # print('La matriz Ab del sistema es:\\n', Ab)\n",
    "\n",
    "    #Triangulación\n",
    "\n",
    "    for k in range(n-1): #filas\n",
    "        \n",
    "        #Warning: cero en la digonal\n",
    "        if Ab[k,k] < np.finfo('float').eps: \n",
    "            return('ERROR: El método de Gauss falla por encontrarnos un cero en la diagonal')\n",
    "\n",
    "        for i in range(k+1, n): #filas debajo de i\n",
    "            m = Ab[i,k]/Ab[k,k]\n",
    "            Ab[i,:] = Ab[i,:] - m*Ab[k,:]\n",
    "\n",
    "    # print('\\n La matriz ampliada Ab despues de ser triangularizada:\\n', Ab)\n",
    "\n",
    "    #Sustitución\n",
    "\n",
    "    for k in range(n-1,-1,-1):\n",
    "        s = 0.0\n",
    "        for i in range(k+1, n):\n",
    "            s = s + Ab[k,i]*x[i]\n",
    "        x[k] = (Ab[k,n] - s)/Ab[k,k]\n",
    "\n",
    "    return x\n",
    "\n",
    "x = Gauss(A, b)\n",
    "print('\\n El vector solución del sistema, x=', x)\n"
   ]
  },
  {
   "attachments": {},
   "cell_type": "markdown",
   "metadata": {},
   "source": [
    "#### Pivotaje\n",
    "\n",
    "> Hay que tener en cuenta los posibles 0 que nos encontremos en la diagonal a la hora de triangular, por lo que habrá que introducir la $\\textit{Pivotaje}$. Existen dos tipos de $\\textit{Pivotes}$:\n",
    "\n",
    ">* $\\textit{Pivote parcial}$: Si $𝑎_{𝑘𝑘}=0$ se intercambia la fila $𝑘$ por aquella $𝑖>𝑘$  que cumple:  $|𝑎_{𝑖𝑘}|=max_{(𝑘<𝑙\\leq 𝑛)}⁡|𝑎_{𝑙𝑘}|$\n",
    ">* $\\textit{Pivote total}$: Si $𝑎_{𝑘𝑘}=0$ se busca el elemento $(𝑖,𝑗)$ que cumple: $|𝑎_{𝑖j}|=max_{(𝑘<𝑠\\leq 𝑛)(𝑘<𝑟\\leq 𝑛)}⁡|𝑎_{sr}|$ y se intercambia la ecuación (fila) $𝑖$ por la $k$ y la variable (columna) $j$ por la $k$.  \n",
    "\n",
    "> A continuación se introduce la implementación del método de eliminación de Gauss con Pivote parcial:\n"
   ]
  },
  {
   "cell_type": "code",
   "execution_count": 87,
   "metadata": {},
   "outputs": [
    {
     "name": "stdout",
     "output_type": "stream",
     "text": [
      "\n",
      " El vector solución del sistema, x= [1. 1. 1. 1.]\n"
     ]
    }
   ],
   "source": [
    "def Gauss_pivote(A, b):\n",
    "    #Dimensión del sistema\n",
    "    n = len(b)\n",
    "    #Matriz ampliada\n",
    "    Ab = np.c_[A,b] #Usamos la funcion stack column que permite añadir una columna extra.\n",
    "    x = np.zeros(n)\n",
    "\n",
    "    # print('La matriz Ab del sistema es:\\n', Ab)\n",
    "\n",
    "    #Triangulación\n",
    "\n",
    "    for k in range(n-1): #filas\n",
    "        #################################\n",
    "        # Pivote parcial          \n",
    "        max = k\n",
    "        \n",
    "        if abs(Ab[k,k]) < np.finfo('float').eps:\n",
    "            # Hallar el índice del máximo valor\n",
    "            # Método 1\n",
    "            max = (k + 1) +np.argmax(abs(Ab[k+1:n,k]))\n",
    "            # Método 2\n",
    "            # for l in range(k+1, n):\n",
    "            #     if ( abs(Ab[l,k]) > abs(Ab[max,k]) ):\n",
    "            #         max = l\n",
    "                    \n",
    "            if max==k:\n",
    "                return('Sistema incompatible')\n",
    "\n",
    "            else:\n",
    "                # Interambio de filas\n",
    "                # Método 1:\n",
    "                # v_piv = np.copy(Ab[k,:]) #Importante: si no usamos copy, será un \"alias\" y no nos servirá\n",
    "                # Ab[k,:] = Ab[max,:]\n",
    "                # Ab[max,:] = v_piv[:]\n",
    "\n",
    "                # Método 2\n",
    "                Ab[[k,max], :] = Ab[[max,k], :]\n",
    "\n",
    "        ##################################\n",
    "\n",
    "        for i in range(k+1, n): #filas debajo de i\n",
    "            m = -Ab[i,k]/Ab[k,k]\n",
    "            # Método 1:\n",
    "            # Ab[i,:] = Ab[i,:] + m*Ab[k,:]\n",
    "            # Método 2\n",
    "            for j in range(n+1): #filas debajo de i\n",
    "                Ab[i,j] = Ab[i,j] + m*Ab[k,j]\n",
    "\n",
    "\n",
    "    # print('\\n La matriz ampliada Ab después de ser triangularizada:\\n', Ab)\n",
    "\n",
    "    #Sustitución\n",
    "\n",
    "    for k in range(n-1,-1,-1):\n",
    "        s = 0.0\n",
    "        for i in range(k+1, n):\n",
    "            s = s + Ab[k,i]*x[i]\n",
    "        x[k] = (Ab[k,n] - s)/Ab[k,k]\n",
    "\n",
    "    return x\n",
    "\n",
    "x = Gauss_pivote(A, b)\n",
    "print('\\n El vector solución del sistema, x=', x)\n"
   ]
  },
  {
   "attachments": {},
   "cell_type": "markdown",
   "metadata": {},
   "source": [
    "### Gauss-Jordan   <a id='GaussJordan'></a>\n",
    "\n",
    "Similar a Gauss, pero añade una triangulación superior, obteniendo una matriz diagonal dando directamente la solución del sistema."
   ]
  },
  {
   "cell_type": "code",
   "execution_count": 88,
   "metadata": {},
   "outputs": [
    {
     "name": "stdout",
     "output_type": "stream",
     "text": [
      "\n",
      " El vector solución del sistema, x= [1. 1. 1. 1.]\n"
     ]
    }
   ],
   "source": [
    "def Gauss_Jordan_pivote(A, b):\n",
    "    #Dimensión del sistema\n",
    "    n = len(b)\n",
    "    #Matriz ampliada\n",
    "    Ab = np.c_[A,b] #Usamos la funcion stack column que permite añadir una columna extra.\n",
    "    x = np.zeros(n)\n",
    "\n",
    "    # print('La matriz Ab del sistema es:\\n', Ab)\n",
    "\n",
    "    #Triangulación inferior\n",
    "\n",
    "    for k in range(n-1): #filas\n",
    "        #################################\n",
    "        # Pivote parcial          \n",
    "        max = k\n",
    "        if abs(Ab[k,k]) < np.finfo('float').eps:\n",
    "            # Hallar el índice del máximo valor\n",
    "            # Método 1\n",
    "            max = (k + 1) +np.argmax(abs(Ab[k+1:n,k]))\n",
    "            # Método 2\n",
    "            # for l in range(k+1, n):\n",
    "            #     if ( abs(Ab[l,k]) > abs(Ab[max,k]) ):\n",
    "            #         max = l\n",
    "            if max==k:\n",
    "                return('Sistema incompatible')\n",
    "\n",
    "            else:\n",
    "                # Interambio de filas\n",
    "                # Método 1:\n",
    "                v_piv = np.copy(Ab[k,:]) #Importante: si no usamos copy, será un \"alias\" y no nos servirá\n",
    "                Ab[k,:] = Ab[max,:]\n",
    "                Ab[max,:] = v_piv[:]\n",
    "\n",
    "                # Método 2\n",
    "                # Ab[[k,max], :] = Ab[[max,k], :]\n",
    "\n",
    "        ##################################\n",
    "\n",
    "        for i in range(k+1, n): #filas debajo de k\n",
    "            m = -Ab[i,k]/Ab[k,k]\n",
    "            Ab[i,:] = Ab[i,:] + m*Ab[k,:]\n",
    "\n",
    "    #Triangulación superior\n",
    "\n",
    "    for k in range(n-1, 0,-1): #filas\n",
    "        #################################\n",
    "        # Pivote parcial         \n",
    "        max = k\n",
    "        if abs(Ab[k,k]) < np.finfo('float').eps:\n",
    "          \n",
    "            for l in range(k+1, n):\n",
    "                if ( abs(Ab[l,k]) > abs(Ab[max,k]) ):\n",
    "                    max = l\n",
    "            if max==k:\n",
    "                return('Sistema incompatible')\n",
    "\n",
    "            else:\n",
    "                # Interambio de filas\n",
    "                # Método 1:\n",
    "                v_piv = np.copy(Ab[k,:]) #Importante: si no usamos copy, será un \"alias\" y no nos servirá\n",
    "                Ab[k,:] = Ab[max,:]\n",
    "                Ab[max,:] = v_piv[:]\n",
    "\n",
    "                # Método 2\n",
    "                # Ab[[k,max], :] = Ab[[max,k], :]\n",
    "\n",
    "        ##################################\n",
    "\n",
    "        for i in range(k-1, -1, -1): #filas encima de k\n",
    "            m = -Ab[i,k]/Ab[k,k]\n",
    "            Ab[i,:] = Ab[i,:] + m*Ab[k,:]\n",
    "\n",
    "\n",
    "    # print('\\n La matriz ampliada Ab después de ser triangularizada superior e inferiormente:\\n', Ab)\n",
    "\n",
    "    #Sustitución directa\n",
    "\n",
    "    for k in range(n):\n",
    "        x[k] = Ab[k,n]/Ab[k,k]\n",
    "\n",
    "    return x\n",
    "\n",
    "x = Gauss_Jordan_pivote(A, b)\n",
    "print('\\n El vector solución del sistema, x=', x)\n",
    "\n"
   ]
  },
  {
   "attachments": {},
   "cell_type": "markdown",
   "metadata": {},
   "source": [
    "### Factorización LU <a id='LU'></a>\n",
    "\n",
    "<br><br>\n",
    "La factorización LU de la matriz es una descomposición en factores de la matriz $A$ como el producto de una matriz triangular inferior (Lower) y una superior (Upper): $A=LU$\n",
    "<br><br>\n",
    "\\begin{align}\n",
    "A = \\begin{pmatrix}a_{11}&a_{12}&a_{13}\\\\a_{21}&a_{22}&a_{23}\\\\a_{31}&a_{32}&a_{33}\\\\\\end{pmatrix}\n",
    "=\\begin{pmatrix}1&0&0\\\\l_{21}&1&0\\\\l_{31}&l_{32}&1\\\\\\end{pmatrix} \\begin{pmatrix}u_{11}&u_{12}&u_{13}\\\\0&u_{22}&u_{23}\\\\0&0&u_{33}\\\\\\end{pmatrix} = LU .\n",
    "\\end{align}\n",
    "<br><br>\n",
    "Existen diferentes técnicas de factorizar la matriz $A$, nos vamos a apoyar en la eliminación gaussiana. Transformamos la matriz $A$ en una matriz triangular superior $U$ anulando los elementos debajo de la diagonal. Entonces,\n",
    "<br><br>\n",
    "\\begin{align}\n",
    "L_{1}*L_{2}*...*L_{n}*A=U, \n",
    "\\end{align}\n",
    "<br>\n",
    "donde $L_{1},L_{2},...,L_{n}$ son matrices elementales, que representan los distintos pasos de la eliminación. Luego recordando que la inversa de una matriz elemental, es otra matriz elemental tenemos que:\n",
    "<br><br>\n",
    "\\begin{align}\n",
    "A=L_{n}^{-1}*...*L_{2}^{-1}*L_{1}^{-1}*U.\n",
    "\\end{align}\n",
    "<br><br>\n",
    "Por lo que $L=L_{n}^{-1}*...*L_{2}^{-1}*L_{1}^{-1}$ siendo una matriz triangular inferior.\n",
    "<br><br>\n",
    "Al utilizar el método de eliminación Gaussiana nos podemos encontrar con ceros en la diagonal, por lo que utilizaremos la técnica de $\\textit{Pivotaje}$.\n",
    "<br><br>\n",
    "Esta descomposición se usa para resolver sistemas de ecuaciones o encontrar las matrices inversas, de una manera más eficiente que el método de Gauss.\n",
    "<br><br>\n",
    "En el caso de que se aplique el $\\textit{Pivotaje}$, esta se tendrá en cuenta a la hora de resolver el sistema o calcular la inversa. Se necesita crear la matriz de permutación, $P$, que consiste en efectuar sobre la matriz identidad, las mismas permutaciones de filas que se vayan efectuando sobre la matriz que se está triangulando por Gauss. Al mismo tiempo se efectúan las mismas permutaciones sobre los elementos subdiagonal de la matriz $L$.\n",
    "\n",
    "\n",
    "### Resolución sistema lineal\n",
    "Dada la ecuación matricial $Ax=LUx=b$. Los pasos para resolver el sistema son los siguientes:\n",
    "\n",
    "* Resolvemos $Ly=Pb$ para $y$.\n",
    "* Resolvemos $Ux=y$ para $x$.\n",
    "\n",
    "Los dos sistemas lineales implicados solo requieren una sustitución ya que en ambos casos las matrices del sistema son triangulares.\n",
    "Nótese que ya tenemos las matrices $L$ y $U$. La ventaja de este método es que es computacionalmente eficiente, porque podemos elegir el vector $b$ que nos parezca y no tenemos que volver a hacer la eliminación de Gauss cada vez."
   ]
  },
  {
   "cell_type": "code",
   "execution_count": 89,
   "metadata": {},
   "outputs": [
    {
     "name": "stdout",
     "output_type": "stream",
     "text": [
      "\n",
      " El vector solución del sistema, x= [1. 1. 1. 1.]\n"
     ]
    }
   ],
   "source": [
    "def LU_solver(A, b):\n",
    "\n",
    "    x = np.zeros(len(b))\n",
    "    # Factorizamos A en LU\n",
    "    L, U, P = Factor_LU(A)\n",
    "    # Sustitución inferior  \n",
    "    baux = np.matmul(P,b)  \n",
    "    y = lower_solver(L, baux)\n",
    "    # Sustitución superior\n",
    "    x = upper_solver(U, y)\n",
    "\n",
    "    # print('La matriz L\\n', L)\n",
    "    # print('La matriz U\\n', U)\n",
    "    # print('La matriz P\\n', P)\n",
    "\n",
    "    return x\n",
    "\n",
    "def Factor_LU(A):\n",
    "    #Dimensión del sistema\n",
    "    n = len(A)\n",
    "    # Inicializacion de variables\n",
    "    P = np.identity(n)\n",
    "    U = np.copy(A)\n",
    "    L = np.zeros((n,n))\n",
    "\n",
    "    # Triangulación\n",
    "    for k in range(n):  #filas\n",
    "        \n",
    "        #################################\n",
    "        # Pivote parcial       \n",
    "        max = k\n",
    "        if abs(U[k,k]) < np.finfo('float').eps:\n",
    "            # Hallar el índice del máximo valor\n",
    "            # Método 1\n",
    "            max = (k + 1) +np.argmax(abs(U[k+1:n,k]))\n",
    "            # Método 2\n",
    "            # for l in range(k+1, n):\n",
    "            #     if ( abs(Ab[l,k]) > abs(Ab[max,k]) ):\n",
    "            #         max = l\n",
    "\n",
    "            if max==k:\n",
    "                return('Sistema incompatible')\n",
    "            else:\n",
    "                # Interambio de filas\n",
    "                # Método 1:\n",
    "                # v = np.copy(U[k,:])\n",
    "                # U[k,:] = U[max,:]\n",
    "                # U[max,:] = v\n",
    "\n",
    "                # v = np.copy(P[k,:])\n",
    "                # P[k,:] = P[max,:]\n",
    "                # P[max,:] = v\n",
    "    \n",
    "                # for i in range(k):\n",
    "                #     v_aux = np.copy(L[k,i])\n",
    "                #     L[k,i] = L[max,i]\n",
    "                #     L[max,i] = v_aux\n",
    "\n",
    "                # Método 2:                \n",
    "                U[[k,max], :] = U[[max,k], :]\n",
    "                P[[k,max], :] = P[[max,k], :]\n",
    "                L[[k,max], :k] = L[[max,k], :k]\n",
    "\n",
    "            \n",
    "        # Creacion de L y U\n",
    "        L[k,k] = 1.0\n",
    "        for i in range(k+1, n):   #filas debajo de k\n",
    "            m = -U[i,k]/U[k,k]\n",
    "            L[i,k] = -m\n",
    "            U[i,:] = U[i,:] + m*U[k,:]\n",
    "\n",
    "    return L, U, P            \n",
    "\n",
    "def lower_solver(A, b):\n",
    "    #Dimensión del sistema\n",
    "    n = len(b)\n",
    "    x = np.zeros(n)\n",
    "    #Sustitución hacia abajo\n",
    "    for k in range(n):\n",
    "        s = 0.0\n",
    "        for i in range(k):\n",
    "            s = s + A[k,i]*x[i]\n",
    "        x[k] = (b[k] - s)/A[k,k]\n",
    "    return x\n",
    "\n",
    "def upper_solver(A, b):\n",
    "    #Dimensión del sistema\n",
    "    n = len(b)\n",
    "    x = np.zeros(n)    \n",
    "    #Sustitución hacia arriba\n",
    "    for k in range(n-1,-1,-1):\n",
    "        s = 0.0\n",
    "        for i in range(k+1, n):\n",
    "            s = s + A[k,i]*x[i]\n",
    "        x[k] = (b[k] - s)/A[k,k]\n",
    "    return x    \n",
    "\n",
    "# Llamamos al LU solver\n",
    "x = LU_solver(A, b)\n",
    "print('\\n El vector solución del sistema, x=', x)\n"
   ]
  },
  {
   "attachments": {},
   "cell_type": "markdown",
   "metadata": {},
   "source": [
    "### Error de redondeo\n",
    "Con aritmética exacta el método de Gauss devuelve una solución exacta. Sin embargo, al realizar los cálculos mediante un ordenador, la aritmética es finita, por lo que en sentido estricto obtenemos una solución aproximada del sistema de ecuaciones, aunque aquí la aproximación es debida tan sólo a los errores de redondeo y su propagación a lo largo de los cálculos. En algunas ocasiones esto conducirá a errores muy reducidos (manteniéndose el orden de magnitud del error de redondeo) mientras que en otros el redondeo puede originar (debido a la propagación y amplificación de los errores de redondeo) errores enormes. Existen distintas estrategias para evitar este problema:\n",
    "\n",
    "* $\\textit{Pivote total}$: evita dividir por un valor pequeño cercano a cero, pero no siempre es efectivo.\n",
    "* $\\textit{Escalado de filas:}$ se elige dentro de cada fila el elemento con mayor valor absoluto y cada fila se divide por este elemento. A continuación se elige el mayor entre los cocientes y se toma esa fila como fila pivote.\n",
    "* $\\textit{Equilibrado de filas:}$ se divide cada fila entre el elemento de mayor valor absoluto dentro de cada fila."
   ]
  },
  {
   "attachments": {},
   "cell_type": "markdown",
   "metadata": {},
   "source": [
    "### Coste computacional\n",
    "\n",
    "Siendo $n$ la dimensión de la matriz $A$:\n",
    "\n",
    "* Gauss: Coste Triangulación + Coste Sustitución regresiva,  $\\frac{2}{3}n^{3} + n^2$\n",
    "* LU: Factorización + Sustitución regresiva + Sustitución progresiva $\\frac{2}{3}n^{3} + 2n^2$\n",
    "\n",
    "Para resolver un sistema ambos métodos tienen un coste computacional similar. La ventaja del LU frente a Gauss, en cuanto a coste computacional, aparece cuando se necesita resolver diferentes sistemas lineales manteniendo la matriz $A$ y variando el vector $b$. Para un sistema de n=100"
   ]
  },
  {
   "cell_type": "code",
   "execution_count": 90,
   "metadata": {},
   "outputs": [
    {
     "data": {
      "image/png": "[encoded data removed]",
      "text/plain": [
       "<Figure size 640x480 with 1 Axes>"
      ]
     },
     "metadata": {},
     "output_type": "display_data"
    }
   ],
   "source": [
    "from matplotlib import pyplot as plt \n",
    "\n",
    "fig = plt.figure()\n",
    "\n",
    "# Representaremos un rango de puntos (501) equiespaciodos entre -3 y 3\n",
    "# La variable x es un vector\n",
    "n = np.arange(50) #Tamaño del sistema lineal\n",
    "n_sistemas = 5 #Numero de sistemas lineales a resolver\n",
    "\n",
    "plt.title('Num. op. para resolver '+str(n_sistemas)+' sistemas lineales de tamaño n')\n",
    "# Evaluamos la función seno hiperbólico en esos 501 puntos\n",
    "\n",
    "c_gauss= n_sistemas*(pow(n,3)*2/3 + pow(n,2))\n",
    "\n",
    "c_LU= pow(n,3)*2/3 + n_sistemas*2*pow(n,2)\n",
    "\n",
    "\n",
    "# Definimos las propiedades de nuestra representación gráfica: color, tipo de línea, ...\n",
    "plt.plot(n, c_gauss, color='red', label='Gauss')\n",
    "plt.plot(n, c_LU, color='blue', label='LU')\n",
    "\n",
    "plt.xlabel('n, Tamaño del sistema')\n",
    "plt.ylabel('Número de operaciones')\n",
    "plt.legend(loc='best')\n",
    "# Finalmente damos la orden de representar el gráfico\n",
    "plt.show()"
   ]
  },
  {
   "attachments": {},
   "cell_type": "markdown",
   "metadata": {},
   "source": [
    "## Módulos de Álgebra lineal en Python\n",
    "\n",
    "En Python, los módulos más conocidos de Álgebra lineal son los siguientes:\n",
    "\n",
    "* Scientific Python Linear Algebra: scipy.linalg\n",
    "* Numerical Python Linear Algebra: numpy.linalg\n",
    "\n",
    "Prueba a ejecutar los siguientes comandos para ver las funciones que contiene cada módulo:\n",
    "\n",
    "* dir(scipy.linalg)\n",
    "* dir(numpy.linalg)\n",
    "\n",
    "Scipy.linalg contiene todas las funciones de numpy.linalg más algunas funciones avanzadas que no están incluidas en numpy.linalg. Esto implica que la eficiencia computacional sea mayor en el módulo de Numpy. Más adelante se muestra con un ejemplo práctico.\n",
    "\n",
    "Las funciones del módulo de se compila con soporte para BLAS y LAPACK, que son librerías que incluyen rutinas para realizar operaciones numéricas de forma optimizada programadas en Fortran.\n"
   ]
  },
  {
   "cell_type": "code",
   "execution_count": 91,
   "metadata": {},
   "outputs": [],
   "source": [
    "#import scipy\n",
    "#import numpy as np\n",
    "\n",
    "import scipy  # Scientific Python Linear Algebra\n",
    "import numpy  # Numerical Python Linear Algebra\n",
    "\n",
    "# Prueba a ejecutar los siguientes comandos para ver las funciones que contiene cada módulo:\n",
    "    # dir(scipy.linalg)\n",
    "    # dir(numpy.linalg)\n"
   ]
  },
  {
   "attachments": {},
   "cell_type": "markdown",
   "metadata": {},
   "source": [
    "### Resolución de sistemas lineales\n",
    "A continuación vamos a ver como resolver un sistema lineal con la librería Numpy. \n",
    "\n",
    "#### Usando las funciones inv() y dot():\n",
    "\n",
    "Si representamos con notación matricial compacta, $\\mathbf {x} =\\mathbf {A^{-1}b}$:"
   ]
  },
  {
   "cell_type": "code",
   "execution_count": 92,
   "metadata": {},
   "outputs": [
    {
     "name": "stdout",
     "output_type": "stream",
     "text": [
      "El vector solución del sistema, x= [[1. 1. 1. 1.]]\n"
     ]
    }
   ],
   "source": [
    "x = np.linalg.inv(A).dot(b)\n",
    "print('El vector solución del sistema, x=', x)"
   ]
  },
  {
   "attachments": {},
   "cell_type": "markdown",
   "metadata": {},
   "source": [
    "#### Usando la función solve()\n",
    "\n",
    "La función resuelve un sistema lineal a través del método de Factorización LU con pivote parcial."
   ]
  },
  {
   "cell_type": "code",
   "execution_count": 93,
   "metadata": {},
   "outputs": [
    {
     "name": "stdout",
     "output_type": "stream",
     "text": [
      "El vector solución del sistema, x= [1. 1. 1. 1.]\n"
     ]
    }
   ],
   "source": [
    "x = np.linalg.solve(A,b)\n",
    "print('El vector solución del sistema, x=', x)"
   ]
  },
  {
   "cell_type": "markdown",
   "metadata": {},
   "source": [
    "### Extra: Usando la función de factorización LU de SciPy: scipy.linalg.lu()\n",
    "\n",
    "Primero usamos la función para factorizar con pivote parcial, la cúal nos devuelve las matrices $L, U$ y $P$. A continuación resolvemos los siguientes pasos: \n",
    "> 1. Resolvemos $Ly=Pb$ para $y$.\n",
    "> 2. Resolvemos $Ux=y$ para $x$.\n"
   ]
  },
  {
   "cell_type": "code",
   "execution_count": 94,
   "metadata": {},
   "outputs": [
    {
     "name": "stdout",
     "output_type": "stream",
     "text": [
      "La matriz L\n",
      " [[ 1.  0.  0.  0.]\n",
      " [-1.  1.  0.  0.]\n",
      " [ 1.  0.  1.  0.]\n",
      " [ 0. -1.  1.  1.]]\n",
      "La matriz U\n",
      " [[ 1.  1. -1.  0.]\n",
      " [ 0.  1.  0.  1.]\n",
      " [ 0.  0.  1. -1.]\n",
      " [ 0.  0.  0.  3.]]\n",
      "La matriz P\n",
      " [[1. 0. 0. 0.]\n",
      " [0. 0. 1. 0.]\n",
      " [0. 1. 0. 0.]\n",
      " [0. 0. 0. 1.]]\n",
      "El vector solución del sistema, x= [1. 1. 1. 1.]\n"
     ]
    }
   ],
   "source": [
    "# Factorización LU con pivote\n",
    "P, L, U = scipy.linalg.lu(A)\n",
    "\n",
    "print('La matriz L\\n', L)\n",
    "print('La matriz U\\n', U)\n",
    "print('La matriz P\\n', P)\n",
    "\n",
    "# Resolución del sistema lineal en dos pasos:\n",
    "y =  scipy.linalg.solve_triangular(L,P.dot(b),lower=True)\n",
    "x =  scipy.linalg.solve_triangular(U,y,lower=False)\n",
    "\n",
    "\n",
    "print('El vector solución del sistema, x=', x)\n"
   ]
  },
  {
   "attachments": {},
   "cell_type": "markdown",
   "metadata": {},
   "source": [
    "## Tiempo de computación\n",
    "\n",
    "En este apartado vamos a comparar las funciones programadas por nosotros con las funciones de las librerias. Para ello vamos a usar un sistema lineal con un tamaño mayor.\n",
    "\n"
   ]
  },
  {
   "cell_type": "code",
   "execution_count": 95,
   "metadata": {},
   "outputs": [
    {
     "name": "stdout",
     "output_type": "stream",
     "text": [
      "Tiempo de ejecucion de los distintos métodos de resolución de sistemas lineales\n",
      " Método de Gauss: 0.0 seg\n",
      " Método de Gauss pivote: 0.45986247062683105 seg\n",
      " Método de Gauss-Jordan pivote: 0.046863555908203125 seg\n",
      " Método de LU pivote: 0.03174114227294922 seg\n",
      " Método de LU (Numpy): 0.0 seg\n",
      " Método de LU (Scipy): 0.0 seg\n"
     ]
    }
   ],
   "source": [
    "# Modulo para obtener el tiempo\n",
    "import time\n",
    "\n",
    "#Definición del sistema\n",
    "n = 100\n",
    "\n",
    "An = np.random.rand(n, n)\n",
    "bn = np.random.rand(n, 1)\n",
    "\n",
    "\n",
    "\n",
    "def tiempo_ejecucion_funcion(func, *args):\n",
    "    start_time = time.time()\n",
    "    resultado = func(*args)\n",
    "    end_time = time.time()\n",
    "    tiempo = end_time - start_time\n",
    "    return tiempo\n",
    "\n",
    "#Gauss\n",
    "print('Tiempo de ejecucion de los distintos métodos de resolución de sistemas lineales')\n",
    "print(' Método de Gauss:',tiempo_ejecucion_funcion(Gauss, An, bn),'seg')\n",
    "print(' Método de Gauss pivote:',tiempo_ejecucion_funcion(Gauss_pivote, An, bn),'seg')\n",
    "print(' Método de Gauss-Jordan pivote:',tiempo_ejecucion_funcion(Gauss_Jordan_pivote, An, bn),'seg')\n",
    "print(' Método de LU pivote:',tiempo_ejecucion_funcion(LU_solver, An, bn),'seg')\n",
    "print(' Método de LU (Numpy):',tiempo_ejecucion_funcion(np.linalg.solve, An,bn),'seg')\n",
    "print(' Método de LU (Scipy):',tiempo_ejecucion_funcion(scipy.linalg.solve, An,bn),'seg')\n",
    "\n"
   ]
  },
  {
   "attachments": {},
   "cell_type": "markdown",
   "metadata": {},
   "source": [
    "### Aplicaciones de los métodos directos\n"
   ]
  },
  {
   "attachments": {},
   "cell_type": "markdown",
   "metadata": {},
   "source": [
    "#### Determinante de una matriz\n",
    "\n",
    "Las matrices $L$ y $U$ pueden ser usadas para calcular el determinante de la matriz $A$ muy eficientemente porque $det(A)=det(L)det(U)$ y los determinantes de matrices triangulares son simplemente el producto de los elementos de sus diagonales. En particular, si $L$ es una matriz triangular en cuya diagonal todos los elementos son uno, entonces:\n",
    "\\begin{align}    \n",
    "\\det(A)=\\det(L)\\det(U)=\\det(U)=\\prod _{i=1}^{n}u_{ii} \n",
    "\\end{align} \n",
    "La misma aproximación al problema puede ser usada para factorizaciones $LUP$ en las que aparece matrices de permutación, pues el determinante de una matriz de permutación $P$ es $(-1)^{S}$, donde $S$ es el número de permutaciones de filas en la descomposición."
   ]
  },
  {
   "cell_type": "code",
   "execution_count": 96,
   "metadata": {},
   "outputs": [
    {
     "name": "stdout",
     "output_type": "stream",
     "text": [
      "El determinante de U es |U| =  3.0\n"
     ]
    }
   ],
   "source": [
    "det = 1\n",
    "n = len(U)\n",
    "for i in range(n):\n",
    "    det = det*U[i,i]\n",
    "print('El determinante de U es |U| = ',det) "
   ]
  },
  {
   "attachments": {},
   "cell_type": "markdown",
   "metadata": {},
   "source": [
    "#### Inversa de una matriz\n",
    "Las matrices $L$ y $U$ pueden ser usadas para calcular la matriz inversa sabiendo que $AA^{-1} = LUA^{-1} = I$, por lo que podemos obtener la inversa en dos pasos. Aplicando la sustitución inferior y superior n veces con las n columnas de la matriz identidad para obtener las n filas de la inversa de la matriz. El algoritmo quedaria de la siguiente manera:\n",
    "\n",
    "\n",
    "$\\textit{for i in range(n)}$:\n",
    "\n",
    "* Resolvemos por sustitución inferior $Ly=I[i]$ para $y$.\n",
    "* Resolvemos por sustitución superior $UA^{-1}[i]=y$ para $A^{-1}[i]$ que corresponde con las filas de $A^{-1}$."
   ]
  },
  {
   "cell_type": "code",
   "execution_count": 97,
   "metadata": {},
   "outputs": [
    {
     "name": "stdout",
     "output_type": "stream",
     "text": [
      "La matriz A:\n",
      " [[ 1.  1. -1.  0.]\n",
      " [ 1.  1.  0. -1.]\n",
      " [-1.  0.  1.  1.]\n",
      " [ 0. -1.  1.  1.]]\n",
      "La matriz inversa de A:\n",
      " [[ 0.33333333 -0.33333333  0.33333333  0.66666667]\n",
      " [ 0.33333333  0.66666667  0.33333333 -0.33333333]\n",
      " [-0.33333333  0.33333333  0.66666667  0.33333333]\n",
      " [ 0.66666667  0.33333333 -0.33333333  0.33333333]]\n",
      "Comprobación de A·A^-1:\n",
      " [[ 1.00000000e+00  0.00000000e+00  0.00000000e+00  0.00000000e+00]\n",
      " [ 0.00000000e+00  0.00000000e+00  1.00000000e+00  0.00000000e+00]\n",
      " [ 0.00000000e+00  1.00000000e+00  0.00000000e+00  0.00000000e+00]\n",
      " [-1.11022302e-16 -1.11022302e-16  1.11022302e-16  1.00000000e+00]]\n"
     ]
    }
   ],
   "source": [
    "I = np.identity(n)\n",
    "Inv = np.zeros((n,n))\n",
    "\n",
    "for i in range(n):\n",
    "    y = scipy.linalg.solve_triangular(L, I[i],lower=True)\n",
    "    x = scipy.linalg.solve_triangular(U,y,lower=False)\n",
    "    Inv[:,i] = x\n",
    "\n",
    "    \n",
    "print('La matriz A:\\n', A)\n",
    "print('La matriz inversa de A:\\n', Inv)\n",
    "print('Comprobación de A·A^-1:\\n', np.matmul(A,Inv))\n",
    "   "
   ]
  },
  {
   "attachments": {},
   "cell_type": "markdown",
   "metadata": {},
   "source": [
    "### Aproximación polinómica mediante el método algebráico\n",
    "\n",
    "El objetivo es aproximar una función ‘compleja’ por otra más sencilla, en este caso polinómica. Dado un conjunto de puntos, pueden venir con un patrón dado o no, \n",
    "\n",
    "Reconstruir una función a partir del valor que toma en ciertos puntos.\n",
    "Estos puntos pueden venir dados con un patrón determinado o no"
   ]
  },
  {
   "cell_type": "code",
   "execution_count": 98,
   "metadata": {},
   "outputs": [
    {
     "data": {
      "image/png": "[encoded data removed]",
      "text/plain": [
       "<Figure size 640x480 with 1 Axes>"
      ]
     },
     "metadata": {},
     "output_type": "display_data"
    }
   ],
   "source": [
    "# Puntos para interpolar\n",
    "x = np.linspace(-6, 6, 10)\n",
    "y = np.cos(x)\n",
    "\n",
    "# Matriz de Vandermonde\n",
    "n = len(x)\n",
    "A = np.zeros((n,n))\n",
    "for i in range(n):\n",
    "    for j in range(0,n):\n",
    "        A[i,j] = pow(x[i],j) \n",
    "\n",
    "# Obtenemos los coeficientes del polinomio interpolador resolviendo el sistema lineal\n",
    "a = np.linalg.solve(A,y)\n",
    "\n",
    "\n",
    "#Contruccion del polinomio interpolador a partir de los coeficientes a_n\n",
    "n_aprox = 20\n",
    "y_aprox = np.zeros(n_aprox)\n",
    "x_aprox = np.linspace(np.min(x), np.max(x), n_aprox)\n",
    "for i in range(n_aprox):\n",
    "    for j in range(n):\n",
    "        y_aprox[i] = y_aprox[i] + a[j]*pow(x_aprox[i],j)\n",
    "\n",
    "fig = plt.figure()\n",
    "\n",
    "plt.title('Representación del polinimio interpolador con '+str(n_aprox)+' puntos')\n",
    "\n",
    "# Representación gráfica\n",
    "plt.scatter(x, y, color='k', label='Puntos iniciales')\n",
    "plt.plot(x_aprox, y_aprox, color='blue', label='Polinomio interpolador')\n",
    "plt.ylim(-3,3)\n",
    "\n",
    "plt.xlabel('x')\n",
    "plt.ylabel('y')\n",
    "plt.legend(loc='best')\n",
    "# Finalmente damos la orden de representar el gráfico\n",
    "plt.show()"
   ]
  },
  {
   "attachments": {},
   "cell_type": "markdown",
   "metadata": {},
   "source": [
    "### Perturbación de sistemas lineales\n",
    "\n",
    "Vamos a estudiar el comportamiento de un sistema lineal de ecuaciones algebráicas, $Ax = b$, a perturbaciones, $\\delta$, en los datos iniciales del problemas, es decir, en la matriz $A$ o en el vector $b$.\n",
    "\n",
    "#### Norma matricial\n",
    "Antes vamos definir el concepto de norma matricial que es una extensión de la norma vectorial. Hay diferentes normas que se denotan p-normas y usualmente se denotan por $\\left\\|A\\right\\|_{p}$.\n",
    "* $p=1$, la máxima suma absoluta de las columnas de la matriz:\n",
    "\\begin{align}    \n",
    "||A||_1=\\max \\limits_{1\\leq j\\leq n}\\sum_{i=1}^{n}a_{ij}.\n",
    "\\end{align} \n",
    "\n",
    "* $p=\\infty$, es la máxima suma absoluta de las columnas de la matriz:\n",
    "\\begin{align}    \n",
    "||A||_{\\infty}=\\max \\limits_{1\\leq j\\leq n}\\sum_{j=1}^{n}a_{ij}.\n",
    "\\end{align} \n",
    "\n",
    "#### Perturbación de $b$ en el sistema $Ax = b$\n",
    "Partimos de un sistema lineal $Ax = b$ y lo perturbamos el vector $b$ con $\\delta b$, el sistema perturbado quedaría:\n",
    "\n",
    "\\begin{align}    \n",
    "Ax = b + \\delta b\n",
    "\\end{align} \n",
    "\n",
    "Si denominamos $x_0$ a la única solución del sistema inicial ( con $x_0\\neq 0$), la solución del sistema perturbado sería $x_0 + \\delta x0$: \n",
    "\\begin{align}    \n",
    "A(x + \\delta x_0) = b + \\delta b \\rightarrow Ax + A\\delta x_0 = b + \\delta b \\rightarrow A\\delta x_0 = \\delta b \\rightarrow \\delta x_0 = A^{-1}\\delta b  \n",
    "\\end{align} \n",
    "\n",
    "Aplicando normas de matrices, $||\\,\\,||$, se deduce que  $||\\delta x_0|| = ||A^{-1}\\delta b|| \\rightarrow ||\\delta x_0|| \\leq ||A^{-1}||\\,||\\delta b||$. Y que multiplicando y dividiendo por $||A||$, $||\\delta x_0|| \\leq ||A^{-1}||\\,\\frac{||A||}{||A||}||\\delta b||,$ llegamos a la siguiente expresión:\n",
    "\n",
    "\n",
    "\\begin{align}    \n",
    "\\frac{||\\delta x_0||}{||x_0||} \\leq ||A^{-1}||\\,||A||\\frac{||\\delta b||}{||b||}\n",
    "\\end{align} \n",
    "\n",
    "donde ||A^{-1}||\\,||A|| es el número de condición de la matriz A y se indica como $\\kappa(A)$.\n",
    "\n",
    "* Si $\\kappa(A)\\approx 1$, el sistema no es sensible a perturbaciones y se dice que la matriz está bien condicionada.\n",
    "* Si $\\kappa(A) >> 1$, el sistema es sensible a perturbaciones y se dice que la matriz está mal condicionada.\n",
    "\n",
    "Vamos a ver con un ejemplo como afecta a la solución del sistema el condicionamiento de la matriz cuando se perturba el vector b:\n",
    "\n",
    "\\begin{align}\n",
    "\\begin{pmatrix} 1 & 1\\\\ 1 & 1.0001 \\end{pmatrix} \\begin{pmatrix} x \\\\ y \\end{pmatrix} = \\begin{pmatrix} 2 \\\\ 2 \\end{pmatrix} \n",
    "\\end{align}\n",
    "\n",
    "\n"
   ]
  },
  {
   "cell_type": "markdown",
   "metadata": {},
   "source": [
    "Resolviendo el sistema por el método de Gauss, vemos que la solución es $x= (2, 2)$. Ahora si perturbamos el sistema con $\\delta b = (0,10^{-4})$, y volvemos a resolver el sistema, la solución es $x = (1, 1)^T$. Comprobando el número de condición, vemos que efectivamente  $\\kappa(A) = 40002 >> 1$, por lo que A está mal condicionada. El número de condición de la matriz A es excesivamente grande (matriz mal condicionada), lo cual traduce el mal comportamiento del sistema incluso frente a pequeñnas perturbaciones."
   ]
  },
  {
   "cell_type": "code",
   "execution_count": 99,
   "metadata": {},
   "outputs": [
    {
     "name": "stdout",
     "output_type": "stream",
     "text": [
      "La solución del sistema es x= [2. 0.]\n",
      "La solución del sistema perturbado en b es x= [1. 1.]\n",
      "El número de condición de la matriz es kappa =  40002.00010000441\n"
     ]
    }
   ],
   "source": [
    "#Ejemplo sistema mal condicionado\n",
    "\n",
    "# Definimos el sistema\n",
    "A = np.matrix([[1.0, 1.0], [1, 1.0001,]]) \n",
    "b = np.array([2.0, 2.0])\n",
    "\n",
    "# Resolvemos el sistema\n",
    "x = np.linalg.solve(A, b)\n",
    "print('La solución del sistema es x=', x)\n",
    "\n",
    "# Perturbamos un elemento de la matriz A\n",
    "b += [0, 0.0001]\n",
    "x = np.linalg.solve(A, b)\n",
    "print('La solución del sistema perturbado en b es x=', x)\n",
    "\n",
    "# Comprobamos el número de condición\n",
    "kappa = np.linalg.norm(np.linalg.inv(A))*np.linalg.norm(A)\n",
    "print('El número de condición de la matriz es kappa = ', kappa)"
   ]
  },
  {
   "cell_type": "markdown",
   "metadata": {},
   "source": [
    "Ahora vamos a resolver otro sistema donde la solución es $x= (0.9, -1)^T$. Ahora si perturbamos el sistema con $\\delta b = (0.1,0.1)^T$, y volvemos a resolver el sistema, la solución es $x = (1, -1)^T$. Comprobando el número de condición, vemos que efectivamente  $\\kappa(A) = 2 \\approx 1$, por lo que A está bien condicionada, lo cual traduce un\n",
    "comportamiento no esencialmente distinto del paso de la solución $x= (0.9, -1)^T$ a la $x = (1, -1)^T$."
   ]
  },
  {
   "cell_type": "code",
   "execution_count": 100,
   "metadata": {},
   "outputs": [
    {
     "name": "stdout",
     "output_type": "stream",
     "text": [
      "La solución del sistema es x= [ 0.9 -1. ]\n",
      "La solución del sistema perturbado en b es x= [ 1. -1.]\n",
      "El número de condición de la matriz es kappa =  2.0\n"
     ]
    }
   ],
   "source": [
    "#Ejemplo sistema bien condicionado\n",
    "\n",
    "# Definimos el sistema\n",
    "A = np.matrix([[1.0, 1.0], [1.0, -1.0,]]) \n",
    "b = np.array([-0.1, 1.9])\n",
    "\n",
    "# Resolvemos el sistema\n",
    "x = np.linalg.solve(A, b)\n",
    "print('La solución del sistema es x=', x)\n",
    "\n",
    "# Perturbamos un elemento de la matriz A\n",
    "b += [0.1, 0.1]\n",
    "x = np.linalg.solve(A, b)\n",
    "print('La solución del sistema perturbado en b es x=', x)\n",
    "\n",
    "# Comprobamos el número de condición\n",
    "kappa = np.linalg.norm(np.linalg.inv(A))*np.linalg.norm(A)\n",
    "print('El número de condición de la matriz es kappa = ', kappa)"
   ]
  },
  {
   "attachments": {},
   "cell_type": "markdown",
   "metadata": {},
   "source": [
    "#### Perturbación de $A$ en el sistema $Ax = b$\n",
    "Ahora vamos a perturbar la matriz $A$ con $\\delta A$, el sistema perturbado quedaría:\n",
    "\n",
    "\\begin{align}    \n",
    "(A +\\delta A)x = b \n",
    "\\end{align} \n",
    "\n",
    "Si denominamos $x_0$ a la única solución del sistema inicial ( con $x_0\\neq0$), la solución del sistema perturbado será $x_0 + \\delta x0$, entonces de manera similar al desarrollo de la perturbación en $b$ se puede llegar a la siguiente expresión: \n",
    "\\begin{align}    \n",
    "\\frac{||\\delta x_0||}{||x_0 + \\delta x_0||} \\leq \\kappa(A)\\frac{||\\delta A||}{||A||}\n",
    "\\end{align} \n"
   ]
  },
  {
   "cell_type": "code",
   "execution_count": 101,
   "metadata": {},
   "outputs": [
    {
     "name": "stdout",
     "output_type": "stream",
     "text": [
      "La solución del sistema es x= [2. 0.]\n",
      "La solución del sistema perturbado en b es x= [2. 0.]\n",
      "El número de condición de la matriz es kappa =  40006.0005000044\n"
     ]
    }
   ],
   "source": [
    "#Ejemplo sistema mal condicionado\n",
    "\n",
    "# Definimos el sistema\n",
    "A = np.matrix([[1.0, 1.0], [1, 1.0001,]]) \n",
    "b = np.array([2.0, 2.0])\n",
    "\n",
    "# Resolvemos el sistema\n",
    "x = np.linalg.solve(A, b)\n",
    "print('La solución del sistema es x=', x)\n",
    "\n",
    "# Perturbamos un elemento de la matriz A\n",
    "A += [[0, 0.0001],[0, 0.0001]]\n",
    "x = np.linalg.solve(A, b)\n",
    "print('La solución del sistema perturbado en b es x=', x)\n",
    "\n",
    "# Comprobamos el número de condición\n",
    "kappa = np.linalg.norm(np.linalg.inv(A))*np.linalg.norm(A)\n",
    "print('El número de condición de la matriz es kappa = ', kappa)"
   ]
  }
 ],
 "metadata": {
  "kernelspec": {
   "display_name": "Python 3 (ipykernel)",
   "language": "python",
   "name": "python3"
  },
  "language_info": {
   "codemirror_mode": {
    "name": "ipython",
    "version": 3
   },
   "file_extension": ".py",
   "mimetype": "text/x-python",
   "name": "python",
   "nbconvert_exporter": "python",
   "pygments_lexer": "ipython3",
   "version": "3.9.13"
  },
  "vscode": {
   "interpreter": {
    "hash": "071f9e78550afcbd793e8b6a3c9f2efb6c937f59a658adc01de375b3b4197951"
   }
  }
 },
 "nbformat": 4,
 "nbformat_minor": 2
}
