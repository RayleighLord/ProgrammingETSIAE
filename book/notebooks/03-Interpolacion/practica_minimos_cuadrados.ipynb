{
 "cells": [
  {
   "cell_type": "markdown",
   "id": "c5b3f246",
   "metadata": {},
   "source": [
    "## Práctica: método de mínimos cuadrados"
   ]
  },
  {
   "cell_type": "markdown",
   "id": "3b84aefc",
   "metadata": {},
   "source": [
    "En el ensayo de un perfil en un túnel aerodinámico hemos obtenido los valores experimentales del coeficiente de sustentación, $C_l$, en función del ángulo de ataque, $\\alpha$, y se han guardado en el fichero \"Cl_vs_alpha.csv\". \n",
    "\n",
    "Necesitamos obtener una función que aproxime dichos resultados a través de un programa que use el método de mínimos cuadrados. El programa debe incluir las siguientes funciones:\n",
    "* Una función que lea los datos experimentales del archivo.\n",
    "* Una función *minimos_cuadrados* que recibe los datos (como dos vectores, o una matriz), el grado del polinomio $m$ y devolverá los coeficientes ${\\beta_0,\\beta_1,\\beta_2,...,\\beta_m}$ (Para ello tendrá que llamar a una función de *numpy* que resuelva sistemas lineales)\n",
    "* Una función que calcule el error cuadrático medio cometido $E=\\frac{1}{N}sum_{i=1}^N[y_i-p(x_i)]^2$ al aproximar el conjunto de puntos con el polinomio. Decidid los argumentos de entrada y salida vosotros/as.\n",
    "* Una función que represente con *Matplolib* el conjunto de datos y la aproximación polinómica. Se valorará la buena representación de la gráfica.\n",
    "\n",
    "El programa principal seguirá es siguiente índice:\n",
    "1. (1 punto) Leer la información del fichero “Cl_vs_alpha.csv” y almacenar en dos vectores $alpha$ y $Cl$.\n",
    "2. (3 puntos) A partir del grado del polinomio deseado hallará los coeficientes llamando a la función *minimos_cuadrados*.\n",
    "3. (2 puntos) Halla el error cometido y genera la salida deseada.\n",
    "4. (2 puntos) Representa los datos experimentales y la aproximación polinómica.\n",
    "\n",
    "(2 puntos) Las conclusiones se presentarán en un bloque de Markdown y/o código que incluirán al menos la discusión de los resultados para distintos grados del polinomio.\n",
    "\n"
   ]
  },
  {
   "cell_type": "code",
   "execution_count": null,
   "id": "e724da75",
   "metadata": {},
   "outputs": [],
   "source": [
    "## Escribe el código a continuación:\n",
    "\n"
   ]
  },
  {
   "cell_type": "markdown",
   "id": "4a0b03fd",
   "metadata": {},
   "source": [
    "## Informe"
   ]
  },
  {
   "cell_type": "markdown",
   "id": "454d8d80",
   "metadata": {},
   "source": []
  }
 ],
 "metadata": {
  "kernelspec": {
   "display_name": "Python 3 (ipykernel)",
   "language": "python",
   "name": "python3"
  },
  "language_info": {
   "codemirror_mode": {
    "name": "ipython",
    "version": 3
   },
   "file_extension": ".py",
   "mimetype": "text/x-python",
   "name": "python",
   "nbconvert_exporter": "python",
   "pygments_lexer": "ipython3",
   "version": "3.9.12"
  },
  "vscode": {
   "interpreter": {
    "hash": "071f9e78550afcbd793e8b6a3c9f2efb6c937f59a658adc01de375b3b4197951"
   }
  }
 },
 "nbformat": 4,
 "nbformat_minor": 5
}
